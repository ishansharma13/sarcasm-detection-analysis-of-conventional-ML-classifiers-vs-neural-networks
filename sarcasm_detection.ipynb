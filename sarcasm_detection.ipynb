{
 "cells": [
  {
   "cell_type": "code",
   "execution_count": 178,
   "metadata": {},
   "outputs": [],
   "source": [
    "import pandas as pd, numpy as np, re, time\n",
    "from nltk.stem.porter import PorterStemmer\n"
   ]
  },
  {
   "cell_type": "code",
   "execution_count": 179,
   "metadata": {},
   "outputs": [],
   "source": [
    "from sklearn.model_selection import train_test_split\n",
    "from sklearn.metrics import confusion_matrix\n",
    "from sklearn.svm import LinearSVC\n",
    "from sklearn.model_selection import cross_val_score\n",
    "from sklearn.naive_bayes import GaussianNB\n",
    "from sklearn.linear_model import LogisticRegression\n",
    "from sklearn.ensemble import RandomForestClassifier\n",
    "from sklearn import metrics"
   ]
  },
  {
   "cell_type": "code",
   "execution_count": 180,
   "metadata": {},
   "outputs": [],
   "source": [
    "import matplotlib.pyplot as plt\n",
    "import seaborn as sns\n",
    "%matplotlib inline"
   ]
  },
  {
   "cell_type": "code",
   "execution_count": 181,
   "metadata": {},
   "outputs": [],
   "source": [
    "s = 'Sarcasm_Headlines_Dataset.json'\n",
    "data = pd.read_json(s, lines = True)"
   ]
  },
  {
   "cell_type": "code",
   "execution_count": 182,
   "metadata": {},
   "outputs": [
    {
     "name": "stdout",
     "output_type": "stream",
     "text": [
      "<class 'pandas.core.frame.DataFrame'>\n",
      "RangeIndex: 26709 entries, 0 to 26708\n",
      "Data columns (total 3 columns):\n",
      " #   Column        Non-Null Count  Dtype \n",
      "---  ------        --------------  ----- \n",
      " 0   article_link  26709 non-null  object\n",
      " 1   headline      26709 non-null  object\n",
      " 2   is_sarcastic  26709 non-null  int64 \n",
      "dtypes: int64(1), object(2)\n",
      "memory usage: 626.1+ KB\n"
     ]
    }
   ],
   "source": [
    "data.info()"
   ]
  },
  {
   "cell_type": "code",
   "execution_count": 183,
   "metadata": {},
   "outputs": [],
   "source": [
    "#from above we gather that the dataset is composed of three attributes or features or columns\n",
    "# out of which two are non-integer types and one is integer type"
   ]
  },
  {
   "cell_type": "code",
   "execution_count": 184,
   "metadata": {},
   "outputs": [
    {
     "data": {
      "text/html": [
       "<div>\n",
       "<style scoped>\n",
       "    .dataframe tbody tr th:only-of-type {\n",
       "        vertical-align: middle;\n",
       "    }\n",
       "\n",
       "    .dataframe tbody tr th {\n",
       "        vertical-align: top;\n",
       "    }\n",
       "\n",
       "    .dataframe thead th {\n",
       "        text-align: right;\n",
       "    }\n",
       "</style>\n",
       "<table border=\"1\" class=\"dataframe\">\n",
       "  <thead>\n",
       "    <tr style=\"text-align: right;\">\n",
       "      <th></th>\n",
       "      <th>article_link</th>\n",
       "      <th>headline</th>\n",
       "      <th>is_sarcastic</th>\n",
       "    </tr>\n",
       "  </thead>\n",
       "  <tbody>\n",
       "    <tr>\n",
       "      <th>0</th>\n",
       "      <td>https://www.huffingtonpost.com/entry/versace-b...</td>\n",
       "      <td>former versace store clerk sues over secret 'b...</td>\n",
       "      <td>0</td>\n",
       "    </tr>\n",
       "    <tr>\n",
       "      <th>1</th>\n",
       "      <td>https://www.huffingtonpost.com/entry/roseanne-...</td>\n",
       "      <td>the 'roseanne' revival catches up to our thorn...</td>\n",
       "      <td>0</td>\n",
       "    </tr>\n",
       "    <tr>\n",
       "      <th>2</th>\n",
       "      <td>https://local.theonion.com/mom-starting-to-fea...</td>\n",
       "      <td>mom starting to fear son's web series closest ...</td>\n",
       "      <td>1</td>\n",
       "    </tr>\n",
       "    <tr>\n",
       "      <th>3</th>\n",
       "      <td>https://politics.theonion.com/boehner-just-wan...</td>\n",
       "      <td>boehner just wants wife to listen, not come up...</td>\n",
       "      <td>1</td>\n",
       "    </tr>\n",
       "    <tr>\n",
       "      <th>4</th>\n",
       "      <td>https://www.huffingtonpost.com/entry/jk-rowlin...</td>\n",
       "      <td>j.k. rowling wishes snape happy birthday in th...</td>\n",
       "      <td>0</td>\n",
       "    </tr>\n",
       "  </tbody>\n",
       "</table>\n",
       "</div>"
      ],
      "text/plain": [
       "                                        article_link  \\\n",
       "0  https://www.huffingtonpost.com/entry/versace-b...   \n",
       "1  https://www.huffingtonpost.com/entry/roseanne-...   \n",
       "2  https://local.theonion.com/mom-starting-to-fea...   \n",
       "3  https://politics.theonion.com/boehner-just-wan...   \n",
       "4  https://www.huffingtonpost.com/entry/jk-rowlin...   \n",
       "\n",
       "                                            headline  is_sarcastic  \n",
       "0  former versace store clerk sues over secret 'b...             0  \n",
       "1  the 'roseanne' revival catches up to our thorn...             0  \n",
       "2  mom starting to fear son's web series closest ...             1  \n",
       "3  boehner just wants wife to listen, not come up...             1  \n",
       "4  j.k. rowling wishes snape happy birthday in th...             0  "
      ]
     },
     "execution_count": 184,
     "metadata": {},
     "output_type": "execute_result"
    }
   ],
   "source": [
    "data.head()"
   ]
  },
  {
   "cell_type": "code",
   "execution_count": 185,
   "metadata": {},
   "outputs": [
    {
     "data": {
      "text/plain": [
       "0    14985\n",
       "1    11724\n",
       "Name: is_sarcastic, dtype: int64"
      ]
     },
     "execution_count": 185,
     "metadata": {},
     "output_type": "execute_result"
    }
   ],
   "source": [
    "data['is_sarcastic'].value_counts()"
   ]
  },
  {
   "cell_type": "code",
   "execution_count": 186,
   "metadata": {},
   "outputs": [
    {
     "data": {
      "text/plain": [
       "<matplotlib.axes._subplots.AxesSubplot at 0x1ce18a9a0>"
      ]
     },
     "execution_count": 186,
     "metadata": {},
     "output_type": "execute_result"
    },
    {
     "data": {
      "image/png": "[encoded data removed]",
      "text/plain": [
       "<Figure size 432x288 with 1 Axes>"
      ]
     },
     "metadata": {},
     "output_type": "display_data"
    }
   ],
   "source": [
    "sns.set_style('whitegrid')\n",
    "sns.countplot(x='is_sarcastic',data=data, palette='YlGnBu_r')"
   ]
  },
  {
   "cell_type": "code",
   "execution_count": 187,
   "metadata": {},
   "outputs": [
    {
     "name": "stdout",
     "output_type": "stream",
     "text": [
      "Requirement already satisfied: tensorflow in /Users/ishansharma/anaconda3/lib/python3.8/site-packages (2.4.0)\n",
      "Requirement already satisfied: grpcio~=1.32.0 in /Users/ishansharma/anaconda3/lib/python3.8/site-packages (from tensorflow) (1.32.0)\n",
      "Requirement already satisfied: google-pasta~=0.2 in /Users/ishansharma/anaconda3/lib/python3.8/site-packages (from tensorflow) (0.2.0)\n",
      "Requirement already satisfied: numpy~=1.19.2 in /Users/ishansharma/anaconda3/lib/python3.8/site-packages (from tensorflow) (1.19.4)\n",
      "Requirement already satisfied: h5py~=2.10.0 in /Users/ishansharma/anaconda3/lib/python3.8/site-packages (from tensorflow) (2.10.0)\n",
      "Requirement already satisfied: termcolor~=1.1.0 in /Users/ishansharma/anaconda3/lib/python3.8/site-packages (from tensorflow) (1.1.0)\n",
      "Requirement already satisfied: wrapt~=1.12.1 in /Users/ishansharma/anaconda3/lib/python3.8/site-packages (from tensorflow) (1.12.1)\n",
      "Requirement already satisfied: opt-einsum~=3.3.0 in /Users/ishansharma/anaconda3/lib/python3.8/site-packages (from tensorflow) (3.3.0)\n",
      "Requirement already satisfied: keras-preprocessing~=1.1.2 in /Users/ishansharma/anaconda3/lib/python3.8/site-packages (from tensorflow) (1.1.2)\n",
      "Requirement already satisfied: gast==0.3.3 in /Users/ishansharma/anaconda3/lib/python3.8/site-packages (from tensorflow) (0.3.3)\n",
      "Requirement already satisfied: astunparse~=1.6.3 in /Users/ishansharma/anaconda3/lib/python3.8/site-packages (from tensorflow) (1.6.3)\n",
      "Requirement already satisfied: flatbuffers~=1.12.0 in /Users/ishansharma/anaconda3/lib/python3.8/site-packages (from tensorflow) (1.12)\n",
      "Requirement already satisfied: six~=1.15.0 in /Users/ishansharma/anaconda3/lib/python3.8/site-packages (from tensorflow) (1.15.0)\n",
      "Requirement already satisfied: typing-extensions~=3.7.4 in /Users/ishansharma/anaconda3/lib/python3.8/site-packages (from tensorflow) (3.7.4.2)\n",
      "Requirement already satisfied: absl-py~=0.10 in /Users/ishansharma/anaconda3/lib/python3.8/site-packages (from tensorflow) (0.11.0)\n",
      "Requirement already satisfied: tensorboard~=2.4 in /Users/ishansharma/anaconda3/lib/python3.8/site-packages (from tensorflow) (2.4.0)\n",
      "Requirement already satisfied: wheel~=0.35 in /Users/ishansharma/anaconda3/lib/python3.8/site-packages (from tensorflow) (0.36.2)\n",
      "Requirement already satisfied: protobuf>=3.9.2 in /Users/ishansharma/anaconda3/lib/python3.8/site-packages (from tensorflow) (3.14.0)\n",
      "Requirement already satisfied: tensorflow-estimator<2.5.0,>=2.4.0rc0 in /Users/ishansharma/anaconda3/lib/python3.8/site-packages (from tensorflow) (2.4.0)\n",
      "Requirement already satisfied: markdown>=2.6.8 in /Users/ishansharma/anaconda3/lib/python3.8/site-packages (from tensorboard~=2.4->tensorflow) (3.3.3)\n",
      "Requirement already satisfied: tensorboard-plugin-wit>=1.6.0 in /Users/ishansharma/anaconda3/lib/python3.8/site-packages (from tensorboard~=2.4->tensorflow) (1.7.0)\n",
      "Requirement already satisfied: requests<3,>=2.21.0 in /Users/ishansharma/anaconda3/lib/python3.8/site-packages (from tensorboard~=2.4->tensorflow) (2.24.0)\n",
      "Requirement already satisfied: werkzeug>=0.11.15 in /Users/ishansharma/anaconda3/lib/python3.8/site-packages (from tensorboard~=2.4->tensorflow) (1.0.1)\n",
      "Requirement already satisfied: google-auth<2,>=1.6.3 in /Users/ishansharma/anaconda3/lib/python3.8/site-packages (from tensorboard~=2.4->tensorflow) (1.24.0)\n",
      "Requirement already satisfied: setuptools>=41.0.0 in /Users/ishansharma/anaconda3/lib/python3.8/site-packages (from tensorboard~=2.4->tensorflow) (49.2.0.post20200714)\n",
      "Requirement already satisfied: google-auth-oauthlib<0.5,>=0.4.1 in /Users/ishansharma/anaconda3/lib/python3.8/site-packages (from tensorboard~=2.4->tensorflow) (0.4.2)\n",
      "Requirement already satisfied: certifi>=2017.4.17 in /Users/ishansharma/anaconda3/lib/python3.8/site-packages (from requests<3,>=2.21.0->tensorboard~=2.4->tensorflow) (2020.6.20)\n",
      "Requirement already satisfied: urllib3!=1.25.0,!=1.25.1,<1.26,>=1.21.1 in /Users/ishansharma/anaconda3/lib/python3.8/site-packages (from requests<3,>=2.21.0->tensorboard~=2.4->tensorflow) (1.25.9)\n",
      "Requirement already satisfied: idna<3,>=2.5 in /Users/ishansharma/anaconda3/lib/python3.8/site-packages (from requests<3,>=2.21.0->tensorboard~=2.4->tensorflow) (2.10)\n",
      "Requirement already satisfied: chardet<4,>=3.0.2 in /Users/ishansharma/anaconda3/lib/python3.8/site-packages (from requests<3,>=2.21.0->tensorboard~=2.4->tensorflow) (3.0.4)\n",
      "Requirement already satisfied: pyasn1-modules>=0.2.1 in /Users/ishansharma/anaconda3/lib/python3.8/site-packages (from google-auth<2,>=1.6.3->tensorboard~=2.4->tensorflow) (0.2.8)\n",
      "Requirement already satisfied: rsa<5,>=3.1.4; python_version >= \"3.6\" in /Users/ishansharma/anaconda3/lib/python3.8/site-packages (from google-auth<2,>=1.6.3->tensorboard~=2.4->tensorflow) (4.6)\n",
      "Requirement already satisfied: cachetools<5.0,>=2.0.0 in /Users/ishansharma/anaconda3/lib/python3.8/site-packages (from google-auth<2,>=1.6.3->tensorboard~=2.4->tensorflow) (4.2.0)\n",
      "Requirement already satisfied: requests-oauthlib>=0.7.0 in /Users/ishansharma/anaconda3/lib/python3.8/site-packages (from google-auth-oauthlib<0.5,>=0.4.1->tensorboard~=2.4->tensorflow) (1.3.0)\n",
      "Requirement already satisfied: pyasn1<0.5.0,>=0.4.6 in /Users/ishansharma/anaconda3/lib/python3.8/site-packages (from pyasn1-modules>=0.2.1->google-auth<2,>=1.6.3->tensorboard~=2.4->tensorflow) (0.4.8)\n",
      "Requirement already satisfied: oauthlib>=3.0.0 in /Users/ishansharma/anaconda3/lib/python3.8/site-packages (from requests-oauthlib>=0.7.0->google-auth-oauthlib<0.5,>=0.4.1->tensorboard~=2.4->tensorflow) (3.1.0)\n",
      "Note: you may need to restart the kernel to use updated packages.\n"
     ]
    }
   ],
   "source": [
    "pip install tensorflow"
   ]
  },
  {
   "cell_type": "code",
   "execution_count": 188,
   "metadata": {},
   "outputs": [
    {
     "name": "stdout",
     "output_type": "stream",
     "text": [
      "article_link    False\n",
      "headline        False\n",
      "is_sarcastic    False\n",
      "dtype: bool\n"
     ]
    }
   ],
   "source": [
    "#from this we gather that the first attribute is the link to headline(i.e., the sencond attribute)\n",
    "\n",
    "\n",
    "#checking missing values if any\n",
    "print(data.isnull().any(axis = 0))"
   ]
  },
  {
   "cell_type": "code",
   "execution_count": 189,
   "metadata": {},
   "outputs": [],
   "source": [
    "def remove_special_symbols(data):\n",
    "    data['headline'] = data['headline'].apply(lambda s : re.sub('[^a-zA-Z]', ' ', s))\n",
    "    return data\n",
    "def confusion_matrix(val,score):\n",
    "    plt.figure(figsize=(9,9))\n",
    "    sns.heatmap(val, annot=True, fmt=\".3f\", linewidths=.5, square = True, cmap = 'Blues_r');\n",
    "    plt.ylabel('Actual label');\n",
    "    plt.xlabel('Predicted label');\n",
    "    all_sample_title = 'Accuracy Score: {0}'.format(score)\n",
    "    plt.title(all_sample_title, size = 15)\n",
    "    plt.show()"
   ]
  },
  {
   "cell_type": "code",
   "execution_count": 190,
   "metadata": {},
   "outputs": [],
   "source": [
    "data = remove_special_symbols(data)"
   ]
  },
  {
   "cell_type": "code",
   "execution_count": 191,
   "metadata": {},
   "outputs": [],
   "source": [
    "#selecting features and labels\n",
    "#if we carefully look at the above dataset\n",
    "#we may see that article_link(i.e., the link to the news headline) does not seem to have any impact on the result(i.e., to find whether the headline is sarcastic or not)\n",
    "#this means we can neglect it while selecting features\n",
    "features = data['headline']\n",
    "labels = data['is_sarcastic']"
   ]
  },
  {
   "cell_type": "code",
   "execution_count": 192,
   "metadata": {},
   "outputs": [],
   "source": [
    "# Stemming our data\n",
    "ps = PorterStemmer()\n",
    "features = features.apply(lambda x: x.split())\n",
    "features = features.apply(lambda x :' '.join([ps.stem(word) for word in x]))\n"
   ]
  },
  {
   "cell_type": "code",
   "execution_count": 193,
   "metadata": {},
   "outputs": [],
   "source": [
    "# vectorizing the data with maximum of 5000 features\n",
    "from sklearn.feature_extraction.text import TfidfVectorizer\n",
    "tv = TfidfVectorizer(max_features = 5000)\n",
    "features = list(features)\n",
    "features = tv.fit_transform(features).toarray()\n"
   ]
  },
  {
   "cell_type": "code",
   "execution_count": 194,
   "metadata": {},
   "outputs": [],
   "source": [
    "features_train, features_test, labels_train, labels_test = train_test_split(features, labels, test_size = .05, random_state = 0)"
   ]
  },
  {
   "cell_type": "code",
   "execution_count": 195,
   "metadata": {},
   "outputs": [
    {
     "name": "stdout",
     "output_type": "stream",
     "text": [
      "90.98254049580262\n",
      "83.60778443113772\n"
     ]
    }
   ],
   "source": [
    "lsvc = LinearSVC()\n",
    "# training the model\n",
    "lsvc.fit(features_train, labels_train)\n",
    "lsvc_predictions = lsvc.predict(features_test)\n",
    "lsvc_cm = metrics.confusion_matrix(labels_test, lsvc_predictions)\n",
    "\n",
    "lsvc_score = lsvc.score(features_test,labels_test)\n",
    "\n",
    "\n",
    "\n",
    "# getting the score of train and test data\n",
    "print(lsvc.score(features_train, labels_train)*100) # 90.98\n",
    "print(lsvc.score(features_test, labels_test)*100)   # 83.60"
   ]
  },
  {
   "cell_type": "code",
   "execution_count": 196,
   "metadata": {},
   "outputs": [
    {
     "name": "stdout",
     "output_type": "stream",
     "text": [
      "78.39041500807944\n",
      "73.35329341317365\n"
     ]
    }
   ],
   "source": [
    "# Using Gaussuan Naive Bayes\n",
    "gnb = GaussianNB()\n",
    "gnb.fit(features_train, labels_train)\n",
    "gnb_predictions = gnb.predict(features_test)\n",
    "gnb_cm = metrics.confusion_matrix(labels_test, gnb_predictions)\n",
    "\n",
    "gnb_score = gnb.score(features_test,labels_test)\n",
    "\n",
    "\n",
    "\n",
    "print(gnb.score(features_train, labels_train)*100)  # 78.39\n",
    "print(gnb.score(features_test, labels_test)*100)    # 73.35"
   ]
  },
  {
   "cell_type": "code",
   "execution_count": 197,
   "metadata": {},
   "outputs": [
    {
     "name": "stdout",
     "output_type": "stream",
     "text": [
      "98.84522918062507\n",
      "78.96706586826348\n"
     ]
    }
   ],
   "source": [
    "# Random Forest Classifier\n",
    "rfc = RandomForestClassifier(n_estimators = 10, random_state = 0)\n",
    "rfc.fit(features_train, labels_train)\n",
    "\n",
    "rfc_predictions = rfc.predict(features_test)\n",
    "rfc_cm = metrics.confusion_matrix(labels_test, rfc_predictions)\n",
    "\n",
    "rfc_score = rfc.score(features_test,labels_test)\n",
    "\n",
    "\n",
    "\n",
    "\n",
    "print(rfc.score(features_train, labels_train)*100)  # 98.84\n",
    "print(rfc.score(features_test, labels_test)*100)    # 78.96"
   ]
  },
  {
   "cell_type": "code",
   "execution_count": 198,
   "metadata": {},
   "outputs": [],
   "source": [
    "X=data['headline'].values\n",
    "y=data['is_sarcastic'].values\n",
    "X_train, X_test, y_train, y_test = train_test_split(X, y, test_size=0.50, random_state=0)\n"
   ]
  },
  {
   "cell_type": "code",
   "execution_count": 199,
   "metadata": {},
   "outputs": [],
   "source": [
    "vocab_size=10000\n",
    "embedding_dim=16\n",
    "max_length=32\n",
    "trunc_type='post'\n",
    "padding_type='post'\n",
    "oov_tok='<oov>'\n",
    "from tensorflow.keras.preprocessing.text import Tokenizer\n",
    "from tensorflow.keras.preprocessing.sequence import pad_sequences\n",
    "tokenizer= Tokenizer(num_words=vocab_size, oov_token=oov_tok)\n",
    "tokenizer.fit_on_texts(X_train)\n",
    "word_index=tokenizer.word_index\n",
    "training_sequences=tokenizer.texts_to_sequences(X_train)\n",
    "training_padded=pad_sequences(training_sequences, maxlen=max_length, padding=padding_type, truncating=trunc_type)\n",
    "testing_sequences=tokenizer.texts_to_sequences(X_test)\n",
    "testing_padded=pad_sequences(testing_sequences, maxlen=max_length, padding=padding_type, truncating=trunc_type)"
   ]
  },
  {
   "cell_type": "code",
   "execution_count": 200,
   "metadata": {},
   "outputs": [
    {
     "name": "stdout",
     "output_type": "stream",
     "text": [
      "Model: \"sequential_3\"\n",
      "_________________________________________________________________\n",
      "Layer (type)                 Output Shape              Param #   \n",
      "=================================================================\n",
      "embedding_3 (Embedding)      (None, 32, 16)            160000    \n",
      "_________________________________________________________________\n",
      "flatten_3 (Flatten)          (None, 512)               0         \n",
      "_________________________________________________________________\n",
      "dense_9 (Dense)              (None, 32)                16416     \n",
      "_________________________________________________________________\n",
      "dropout_6 (Dropout)          (None, 32)                0         \n",
      "_________________________________________________________________\n",
      "dense_10 (Dense)             (None, 10)                330       \n",
      "_________________________________________________________________\n",
      "dropout_7 (Dropout)          (None, 10)                0         \n",
      "_________________________________________________________________\n",
      "dense_11 (Dense)             (None, 1)                 11        \n",
      "=================================================================\n",
      "Total params: 176,757\n",
      "Trainable params: 176,757\n",
      "Non-trainable params: 0\n",
      "_________________________________________________________________\n"
     ]
    }
   ],
   "source": [
    "import tensorflow as tf\n",
    "from tensorflow.keras.models import Sequential\n",
    "from tensorflow.keras.layers import Dense, Dropout, Embedding, Flatten\n",
    "model = Sequential()\n",
    "model.add(Embedding(vocab_size, embedding_dim, input_length=max_length))\n",
    "model.add(Flatten())\n",
    "model.add(Dense(units=32,activation='relu'))\n",
    "model.add(Dropout(0.5))\n",
    "model.add(Dense(units=10,activation='relu'))\n",
    "model.add(Dropout(0.5))\n",
    "model.add(Dense(units=1,activation='sigmoid'))\n",
    "opt = tf.keras.optimizers.Adam(learning_rate=0.0001)\n",
    "model.compile(loss='binary_crossentropy', optimizer=opt, metrics=['accuracy'])\n",
    "model.summary()"
   ]
  },
  {
   "cell_type": "code",
   "execution_count": 201,
   "metadata": {},
   "outputs": [
    {
     "name": "stdout",
     "output_type": "stream",
     "text": [
      "Epoch 1/100\n",
      "53/53 [==============================] - 2s 11ms/step - loss: 0.6945 - accuracy: 0.4712 - val_loss: 0.6927 - val_accuracy: 0.5613\n",
      "Epoch 2/100\n",
      "53/53 [==============================] - 0s 7ms/step - loss: 0.6925 - accuracy: 0.5268 - val_loss: 0.6917 - val_accuracy: 0.5643\n",
      "Epoch 3/100\n",
      "53/53 [==============================] - 0s 7ms/step - loss: 0.6916 - accuracy: 0.5568 - val_loss: 0.6908 - val_accuracy: 0.5631\n",
      "Epoch 4/100\n",
      "53/53 [==============================] - 0s 8ms/step - loss: 0.6904 - accuracy: 0.5551 - val_loss: 0.6891 - val_accuracy: 0.5628\n",
      "Epoch 5/100\n",
      "53/53 [==============================] - 0s 9ms/step - loss: 0.6897 - accuracy: 0.5530 - val_loss: 0.6874 - val_accuracy: 0.5627\n",
      "Epoch 6/100\n",
      "53/53 [==============================] - 0s 8ms/step - loss: 0.6876 - accuracy: 0.5571 - val_loss: 0.6859 - val_accuracy: 0.5626\n",
      "Epoch 7/100\n",
      "53/53 [==============================] - 0s 7ms/step - loss: 0.6867 - accuracy: 0.5591 - val_loss: 0.6845 - val_accuracy: 0.5638\n",
      "Epoch 8/100\n",
      "53/53 [==============================] - 0s 7ms/step - loss: 0.6854 - accuracy: 0.5639 - val_loss: 0.6826 - val_accuracy: 0.5711\n",
      "Epoch 9/100\n",
      "53/53 [==============================] - 0s 7ms/step - loss: 0.6836 - accuracy: 0.5795 - val_loss: 0.6791 - val_accuracy: 0.5831\n",
      "Epoch 10/100\n",
      "53/53 [==============================] - 0s 7ms/step - loss: 0.6785 - accuracy: 0.5827 - val_loss: 0.6722 - val_accuracy: 0.6354\n",
      "Epoch 11/100\n",
      "53/53 [==============================] - 0s 7ms/step - loss: 0.6711 - accuracy: 0.6184 - val_loss: 0.6585 - val_accuracy: 0.7128\n",
      "Epoch 12/100\n",
      "53/53 [==============================] - 0s 7ms/step - loss: 0.6566 - accuracy: 0.6517 - val_loss: 0.6405 - val_accuracy: 0.7766\n",
      "Epoch 13/100\n",
      "53/53 [==============================] - 0s 8ms/step - loss: 0.6364 - accuracy: 0.6922 - val_loss: 0.6193 - val_accuracy: 0.7933\n",
      "Epoch 14/100\n",
      "53/53 [==============================] - 0s 7ms/step - loss: 0.6166 - accuracy: 0.7137 - val_loss: 0.5961 - val_accuracy: 0.8004\n",
      "Epoch 15/100\n",
      "53/53 [==============================] - 0s 7ms/step - loss: 0.5955 - accuracy: 0.7359 - val_loss: 0.5733 - val_accuracy: 0.8152\n",
      "Epoch 16/100\n",
      "53/53 [==============================] - 0s 7ms/step - loss: 0.5753 - accuracy: 0.7542 - val_loss: 0.5482 - val_accuracy: 0.8213\n",
      "Epoch 17/100\n",
      "53/53 [==============================] - 0s 7ms/step - loss: 0.5491 - accuracy: 0.7723 - val_loss: 0.5245 - val_accuracy: 0.8264\n",
      "Epoch 18/100\n",
      "53/53 [==============================] - 0s 7ms/step - loss: 0.5210 - accuracy: 0.7917 - val_loss: 0.5012 - val_accuracy: 0.8332\n",
      "Epoch 19/100\n",
      "53/53 [==============================] - 0s 7ms/step - loss: 0.5042 - accuracy: 0.8049 - val_loss: 0.4833 - val_accuracy: 0.8338\n",
      "Epoch 20/100\n",
      "53/53 [==============================] - 0s 7ms/step - loss: 0.4830 - accuracy: 0.8227 - val_loss: 0.4645 - val_accuracy: 0.8382\n",
      "Epoch 21/100\n",
      "53/53 [==============================] - 0s 7ms/step - loss: 0.4603 - accuracy: 0.8345 - val_loss: 0.4472 - val_accuracy: 0.8434\n",
      "Epoch 22/100\n",
      "53/53 [==============================] - 1s 12ms/step - loss: 0.4425 - accuracy: 0.8475 - val_loss: 0.4299 - val_accuracy: 0.8481\n",
      "Epoch 23/100\n",
      "53/53 [==============================] - 1s 10ms/step - loss: 0.4251 - accuracy: 0.8566 - val_loss: 0.4180 - val_accuracy: 0.8479\n",
      "Epoch 24/100\n",
      "53/53 [==============================] - 0s 7ms/step - loss: 0.4039 - accuracy: 0.8715 - val_loss: 0.4042 - val_accuracy: 0.8500\n",
      "Epoch 25/100\n",
      "53/53 [==============================] - 0s 8ms/step - loss: 0.3903 - accuracy: 0.8809 - val_loss: 0.3945 - val_accuracy: 0.8491\n",
      "Epoch 26/100\n",
      "53/53 [==============================] - 0s 7ms/step - loss: 0.3707 - accuracy: 0.8858 - val_loss: 0.3856 - val_accuracy: 0.8490\n",
      "Epoch 27/100\n",
      "53/53 [==============================] - 0s 7ms/step - loss: 0.3557 - accuracy: 0.8940 - val_loss: 0.3776 - val_accuracy: 0.8502\n",
      "Epoch 28/100\n",
      "53/53 [==============================] - 0s 7ms/step - loss: 0.3474 - accuracy: 0.8963 - val_loss: 0.3706 - val_accuracy: 0.8513\n",
      "Epoch 29/100\n",
      "53/53 [==============================] - 0s 7ms/step - loss: 0.3267 - accuracy: 0.9094 - val_loss: 0.3630 - val_accuracy: 0.8529\n",
      "Epoch 30/100\n",
      "53/53 [==============================] - 0s 9ms/step - loss: 0.3157 - accuracy: 0.9109 - val_loss: 0.3582 - val_accuracy: 0.8524\n",
      "Epoch 31/100\n",
      "53/53 [==============================] - 0s 7ms/step - loss: 0.3032 - accuracy: 0.9189 - val_loss: 0.3561 - val_accuracy: 0.8526\n",
      "Epoch 32/100\n",
      "53/53 [==============================] - 0s 7ms/step - loss: 0.2937 - accuracy: 0.9215 - val_loss: 0.3508 - val_accuracy: 0.8535\n",
      "Epoch 33/100\n",
      "53/53 [==============================] - 0s 7ms/step - loss: 0.2880 - accuracy: 0.9223 - val_loss: 0.3489 - val_accuracy: 0.8535\n",
      "Epoch 34/100\n",
      "53/53 [==============================] - 0s 7ms/step - loss: 0.2673 - accuracy: 0.9303 - val_loss: 0.3470 - val_accuracy: 0.8541\n",
      "Epoch 35/100\n",
      "53/53 [==============================] - 0s 7ms/step - loss: 0.2540 - accuracy: 0.9375 - val_loss: 0.3430 - val_accuracy: 0.8565\n",
      "Epoch 36/100\n",
      "53/53 [==============================] - 0s 7ms/step - loss: 0.2520 - accuracy: 0.9362 - val_loss: 0.3434 - val_accuracy: 0.8570\n",
      "Epoch 37/100\n",
      "53/53 [==============================] - 0s 7ms/step - loss: 0.2403 - accuracy: 0.9439 - val_loss: 0.3455 - val_accuracy: 0.8563\n",
      "Epoch 38/100\n",
      "53/53 [==============================] - 0s 7ms/step - loss: 0.2332 - accuracy: 0.9447 - val_loss: 0.3462 - val_accuracy: 0.8553\n",
      "Epoch 39/100\n",
      "53/53 [==============================] - 0s 7ms/step - loss: 0.2171 - accuracy: 0.9514 - val_loss: 0.3463 - val_accuracy: 0.8555\n",
      "Epoch 40/100\n",
      "53/53 [==============================] - 1s 15ms/step - loss: 0.2097 - accuracy: 0.9512 - val_loss: 0.3449 - val_accuracy: 0.8567\n",
      "Epoch 00040: early stopping\n"
     ]
    },
    {
     "data": {
      "text/plain": [
       "<tensorflow.python.keras.callbacks.History at 0x1675180d0>"
      ]
     },
     "execution_count": 201,
     "metadata": {},
     "output_type": "execute_result"
    }
   ],
   "source": [
    "from tensorflow.keras.callbacks import EarlyStopping\n",
    "early_stop = EarlyStopping(monitor='val_loss', mode='min', verbose=1, patience=5)\n",
    "model.fit(x=training_padded, y=y_train, batch_size=256, epochs=100, validation_data=(testing_padded, y_test), verbose=1, callbacks=[early_stop])\n"
   ]
  },
  {
   "cell_type": "code",
   "execution_count": 202,
   "metadata": {},
   "outputs": [],
   "source": [
    "hist = model.history.history\n",
    "n_epochs_best = len(hist['loss'])"
   ]
  },
  {
   "cell_type": "code",
   "execution_count": 203,
   "metadata": {},
   "outputs": [
    {
     "data": {
      "text/html": [
       "<div>\n",
       "<style scoped>\n",
       "    .dataframe tbody tr th:only-of-type {\n",
       "        vertical-align: middle;\n",
       "    }\n",
       "\n",
       "    .dataframe tbody tr th {\n",
       "        vertical-align: top;\n",
       "    }\n",
       "\n",
       "    .dataframe thead th {\n",
       "        text-align: right;\n",
       "    }\n",
       "</style>\n",
       "<table border=\"1\" class=\"dataframe\">\n",
       "  <thead>\n",
       "    <tr style=\"text-align: right;\">\n",
       "      <th></th>\n",
       "      <th>loss</th>\n",
       "      <th>accuracy</th>\n",
       "      <th>val_loss</th>\n",
       "      <th>val_accuracy</th>\n",
       "      <th>Epoch</th>\n",
       "    </tr>\n",
       "    <tr>\n",
       "      <th>Epoch</th>\n",
       "      <th></th>\n",
       "      <th></th>\n",
       "      <th></th>\n",
       "      <th></th>\n",
       "      <th></th>\n",
       "    </tr>\n",
       "  </thead>\n",
       "  <tbody>\n",
       "    <tr>\n",
       "      <th>1</th>\n",
       "      <td>0.694075</td>\n",
       "      <td>0.478958</td>\n",
       "      <td>0.692706</td>\n",
       "      <td>0.561288</td>\n",
       "      <td>1</td>\n",
       "    </tr>\n",
       "    <tr>\n",
       "      <th>2</th>\n",
       "      <td>0.692422</td>\n",
       "      <td>0.535495</td>\n",
       "      <td>0.691716</td>\n",
       "      <td>0.564283</td>\n",
       "      <td>2</td>\n",
       "    </tr>\n",
       "    <tr>\n",
       "      <th>3</th>\n",
       "      <td>0.691568</td>\n",
       "      <td>0.552718</td>\n",
       "      <td>0.690831</td>\n",
       "      <td>0.563085</td>\n",
       "      <td>3</td>\n",
       "    </tr>\n",
       "    <tr>\n",
       "      <th>4</th>\n",
       "      <td>0.690339</td>\n",
       "      <td>0.552494</td>\n",
       "      <td>0.689123</td>\n",
       "      <td>0.562785</td>\n",
       "      <td>4</td>\n",
       "    </tr>\n",
       "    <tr>\n",
       "      <th>5</th>\n",
       "      <td>0.689098</td>\n",
       "      <td>0.555714</td>\n",
       "      <td>0.687389</td>\n",
       "      <td>0.562711</td>\n",
       "      <td>5</td>\n",
       "    </tr>\n",
       "    <tr>\n",
       "      <th>6</th>\n",
       "      <td>0.687500</td>\n",
       "      <td>0.558110</td>\n",
       "      <td>0.685909</td>\n",
       "      <td>0.562561</td>\n",
       "      <td>6</td>\n",
       "    </tr>\n",
       "    <tr>\n",
       "      <th>7</th>\n",
       "      <td>0.686310</td>\n",
       "      <td>0.559982</td>\n",
       "      <td>0.684477</td>\n",
       "      <td>0.563759</td>\n",
       "      <td>7</td>\n",
       "    </tr>\n",
       "    <tr>\n",
       "      <th>8</th>\n",
       "      <td>0.684911</td>\n",
       "      <td>0.564325</td>\n",
       "      <td>0.682578</td>\n",
       "      <td>0.571097</td>\n",
       "      <td>8</td>\n",
       "    </tr>\n",
       "    <tr>\n",
       "      <th>9</th>\n",
       "      <td>0.682057</td>\n",
       "      <td>0.579152</td>\n",
       "      <td>0.679100</td>\n",
       "      <td>0.583077</td>\n",
       "      <td>9</td>\n",
       "    </tr>\n",
       "    <tr>\n",
       "      <th>10</th>\n",
       "      <td>0.677533</td>\n",
       "      <td>0.587764</td>\n",
       "      <td>0.672242</td>\n",
       "      <td>0.635417</td>\n",
       "      <td>10</td>\n",
       "    </tr>\n",
       "    <tr>\n",
       "      <th>11</th>\n",
       "      <td>0.668441</td>\n",
       "      <td>0.625431</td>\n",
       "      <td>0.658467</td>\n",
       "      <td>0.712767</td>\n",
       "      <td>11</td>\n",
       "    </tr>\n",
       "    <tr>\n",
       "      <th>12</th>\n",
       "      <td>0.652605</td>\n",
       "      <td>0.661525</td>\n",
       "      <td>0.640486</td>\n",
       "      <td>0.776638</td>\n",
       "      <td>12</td>\n",
       "    </tr>\n",
       "    <tr>\n",
       "      <th>13</th>\n",
       "      <td>0.634089</td>\n",
       "      <td>0.691029</td>\n",
       "      <td>0.619255</td>\n",
       "      <td>0.793261</td>\n",
       "      <td>13</td>\n",
       "    </tr>\n",
       "    <tr>\n",
       "      <th>14</th>\n",
       "      <td>0.611570</td>\n",
       "      <td>0.720383</td>\n",
       "      <td>0.596054</td>\n",
       "      <td>0.800374</td>\n",
       "      <td>14</td>\n",
       "    </tr>\n",
       "    <tr>\n",
       "      <th>15</th>\n",
       "      <td>0.591367</td>\n",
       "      <td>0.738356</td>\n",
       "      <td>0.573338</td>\n",
       "      <td>0.815200</td>\n",
       "      <td>15</td>\n",
       "    </tr>\n",
       "    <tr>\n",
       "      <th>16</th>\n",
       "      <td>0.567779</td>\n",
       "      <td>0.763367</td>\n",
       "      <td>0.548155</td>\n",
       "      <td>0.821265</td>\n",
       "      <td>16</td>\n",
       "    </tr>\n",
       "    <tr>\n",
       "      <th>17</th>\n",
       "      <td>0.542746</td>\n",
       "      <td>0.776846</td>\n",
       "      <td>0.524529</td>\n",
       "      <td>0.826357</td>\n",
       "      <td>17</td>\n",
       "    </tr>\n",
       "    <tr>\n",
       "      <th>18</th>\n",
       "      <td>0.517451</td>\n",
       "      <td>0.794369</td>\n",
       "      <td>0.501208</td>\n",
       "      <td>0.833246</td>\n",
       "      <td>18</td>\n",
       "    </tr>\n",
       "    <tr>\n",
       "      <th>19</th>\n",
       "      <td>0.500046</td>\n",
       "      <td>0.810544</td>\n",
       "      <td>0.483324</td>\n",
       "      <td>0.833770</td>\n",
       "      <td>19</td>\n",
       "    </tr>\n",
       "    <tr>\n",
       "      <th>20</th>\n",
       "      <td>0.479920</td>\n",
       "      <td>0.824622</td>\n",
       "      <td>0.464476</td>\n",
       "      <td>0.838188</td>\n",
       "      <td>20</td>\n",
       "    </tr>\n",
       "    <tr>\n",
       "      <th>21</th>\n",
       "      <td>0.456613</td>\n",
       "      <td>0.836678</td>\n",
       "      <td>0.447159</td>\n",
       "      <td>0.843429</td>\n",
       "      <td>21</td>\n",
       "    </tr>\n",
       "    <tr>\n",
       "      <th>22</th>\n",
       "      <td>0.436785</td>\n",
       "      <td>0.849483</td>\n",
       "      <td>0.429938</td>\n",
       "      <td>0.848147</td>\n",
       "      <td>22</td>\n",
       "    </tr>\n",
       "    <tr>\n",
       "      <th>23</th>\n",
       "      <td>0.422956</td>\n",
       "      <td>0.856148</td>\n",
       "      <td>0.417954</td>\n",
       "      <td>0.847922</td>\n",
       "      <td>23</td>\n",
       "    </tr>\n",
       "    <tr>\n",
       "      <th>24</th>\n",
       "      <td>0.400260</td>\n",
       "      <td>0.873296</td>\n",
       "      <td>0.404237</td>\n",
       "      <td>0.850019</td>\n",
       "      <td>24</td>\n",
       "    </tr>\n",
       "    <tr>\n",
       "      <th>25</th>\n",
       "      <td>0.389237</td>\n",
       "      <td>0.879811</td>\n",
       "      <td>0.394509</td>\n",
       "      <td>0.849120</td>\n",
       "      <td>25</td>\n",
       "    </tr>\n",
       "    <tr>\n",
       "      <th>26</th>\n",
       "      <td>0.369178</td>\n",
       "      <td>0.887375</td>\n",
       "      <td>0.385623</td>\n",
       "      <td>0.849045</td>\n",
       "      <td>26</td>\n",
       "    </tr>\n",
       "    <tr>\n",
       "      <th>27</th>\n",
       "      <td>0.354927</td>\n",
       "      <td>0.892766</td>\n",
       "      <td>0.377644</td>\n",
       "      <td>0.850168</td>\n",
       "      <td>27</td>\n",
       "    </tr>\n",
       "    <tr>\n",
       "      <th>28</th>\n",
       "      <td>0.343994</td>\n",
       "      <td>0.899730</td>\n",
       "      <td>0.370585</td>\n",
       "      <td>0.851292</td>\n",
       "      <td>28</td>\n",
       "    </tr>\n",
       "    <tr>\n",
       "      <th>29</th>\n",
       "      <td>0.326801</td>\n",
       "      <td>0.908267</td>\n",
       "      <td>0.362983</td>\n",
       "      <td>0.852939</td>\n",
       "      <td>29</td>\n",
       "    </tr>\n",
       "    <tr>\n",
       "      <th>30</th>\n",
       "      <td>0.310434</td>\n",
       "      <td>0.913284</td>\n",
       "      <td>0.358217</td>\n",
       "      <td>0.852415</td>\n",
       "      <td>30</td>\n",
       "    </tr>\n",
       "    <tr>\n",
       "      <th>31</th>\n",
       "      <td>0.301323</td>\n",
       "      <td>0.919500</td>\n",
       "      <td>0.356126</td>\n",
       "      <td>0.852565</td>\n",
       "      <td>31</td>\n",
       "    </tr>\n",
       "    <tr>\n",
       "      <th>32</th>\n",
       "      <td>0.289295</td>\n",
       "      <td>0.922420</td>\n",
       "      <td>0.350822</td>\n",
       "      <td>0.853538</td>\n",
       "      <td>32</td>\n",
       "    </tr>\n",
       "    <tr>\n",
       "      <th>33</th>\n",
       "      <td>0.275228</td>\n",
       "      <td>0.928561</td>\n",
       "      <td>0.348921</td>\n",
       "      <td>0.853463</td>\n",
       "      <td>33</td>\n",
       "    </tr>\n",
       "    <tr>\n",
       "      <th>34</th>\n",
       "      <td>0.263481</td>\n",
       "      <td>0.932979</td>\n",
       "      <td>0.346951</td>\n",
       "      <td>0.854137</td>\n",
       "      <td>34</td>\n",
       "    </tr>\n",
       "    <tr>\n",
       "      <th>35</th>\n",
       "      <td>0.255257</td>\n",
       "      <td>0.936199</td>\n",
       "      <td>0.343017</td>\n",
       "      <td>0.856533</td>\n",
       "      <td>35</td>\n",
       "    </tr>\n",
       "    <tr>\n",
       "      <th>36</th>\n",
       "      <td>0.248889</td>\n",
       "      <td>0.937172</td>\n",
       "      <td>0.343350</td>\n",
       "      <td>0.856982</td>\n",
       "      <td>36</td>\n",
       "    </tr>\n",
       "    <tr>\n",
       "      <th>37</th>\n",
       "      <td>0.241385</td>\n",
       "      <td>0.942414</td>\n",
       "      <td>0.345497</td>\n",
       "      <td>0.856309</td>\n",
       "      <td>37</td>\n",
       "    </tr>\n",
       "    <tr>\n",
       "      <th>38</th>\n",
       "      <td>0.227868</td>\n",
       "      <td>0.946982</td>\n",
       "      <td>0.346206</td>\n",
       "      <td>0.855260</td>\n",
       "      <td>38</td>\n",
       "    </tr>\n",
       "    <tr>\n",
       "      <th>39</th>\n",
       "      <td>0.218510</td>\n",
       "      <td>0.948031</td>\n",
       "      <td>0.346288</td>\n",
       "      <td>0.855485</td>\n",
       "      <td>39</td>\n",
       "    </tr>\n",
       "    <tr>\n",
       "      <th>40</th>\n",
       "      <td>0.210987</td>\n",
       "      <td>0.951925</td>\n",
       "      <td>0.344926</td>\n",
       "      <td>0.856683</td>\n",
       "      <td>40</td>\n",
       "    </tr>\n",
       "  </tbody>\n",
       "</table>\n",
       "</div>"
      ],
      "text/plain": [
       "           loss  accuracy  val_loss  val_accuracy  Epoch\n",
       "Epoch                                                   \n",
       "1      0.694075  0.478958  0.692706      0.561288      1\n",
       "2      0.692422  0.535495  0.691716      0.564283      2\n",
       "3      0.691568  0.552718  0.690831      0.563085      3\n",
       "4      0.690339  0.552494  0.689123      0.562785      4\n",
       "5      0.689098  0.555714  0.687389      0.562711      5\n",
       "6      0.687500  0.558110  0.685909      0.562561      6\n",
       "7      0.686310  0.559982  0.684477      0.563759      7\n",
       "8      0.684911  0.564325  0.682578      0.571097      8\n",
       "9      0.682057  0.579152  0.679100      0.583077      9\n",
       "10     0.677533  0.587764  0.672242      0.635417     10\n",
       "11     0.668441  0.625431  0.658467      0.712767     11\n",
       "12     0.652605  0.661525  0.640486      0.776638     12\n",
       "13     0.634089  0.691029  0.619255      0.793261     13\n",
       "14     0.611570  0.720383  0.596054      0.800374     14\n",
       "15     0.591367  0.738356  0.573338      0.815200     15\n",
       "16     0.567779  0.763367  0.548155      0.821265     16\n",
       "17     0.542746  0.776846  0.524529      0.826357     17\n",
       "18     0.517451  0.794369  0.501208      0.833246     18\n",
       "19     0.500046  0.810544  0.483324      0.833770     19\n",
       "20     0.479920  0.824622  0.464476      0.838188     20\n",
       "21     0.456613  0.836678  0.447159      0.843429     21\n",
       "22     0.436785  0.849483  0.429938      0.848147     22\n",
       "23     0.422956  0.856148  0.417954      0.847922     23\n",
       "24     0.400260  0.873296  0.404237      0.850019     24\n",
       "25     0.389237  0.879811  0.394509      0.849120     25\n",
       "26     0.369178  0.887375  0.385623      0.849045     26\n",
       "27     0.354927  0.892766  0.377644      0.850168     27\n",
       "28     0.343994  0.899730  0.370585      0.851292     28\n",
       "29     0.326801  0.908267  0.362983      0.852939     29\n",
       "30     0.310434  0.913284  0.358217      0.852415     30\n",
       "31     0.301323  0.919500  0.356126      0.852565     31\n",
       "32     0.289295  0.922420  0.350822      0.853538     32\n",
       "33     0.275228  0.928561  0.348921      0.853463     33\n",
       "34     0.263481  0.932979  0.346951      0.854137     34\n",
       "35     0.255257  0.936199  0.343017      0.856533     35\n",
       "36     0.248889  0.937172  0.343350      0.856982     36\n",
       "37     0.241385  0.942414  0.345497      0.856309     37\n",
       "38     0.227868  0.946982  0.346206      0.855260     38\n",
       "39     0.218510  0.948031  0.346288      0.855485     39\n",
       "40     0.210987  0.951925  0.344926      0.856683     40"
      ]
     },
     "execution_count": 203,
     "metadata": {},
     "output_type": "execute_result"
    }
   ],
   "source": [
    "df_m=pd.DataFrame(model.history.history)\n",
    "df_m['Epoch']=range(1,n_epochs_best+1)\n",
    "df_m.index=df_m['Epoch']\n",
    "df_m\n"
   ]
  },
  {
   "cell_type": "code",
   "execution_count": 204,
   "metadata": {},
   "outputs": [
    {
     "name": "stdout",
     "output_type": "stream",
     "text": [
      "209/209 [==============================] - 1s 3ms/step - loss: 0.3449 - accuracy: 0.8567\n",
      "Test accuracy: 0.8566828966140747\n"
     ]
    }
   ],
   "source": [
    "score = model.evaluate(testing_padded, y_test, batch_size=64, verbose=1)\n",
    "print('Test accuracy:', score[1])\n"
   ]
  },
  {
   "cell_type": "code",
   "execution_count": 205,
   "metadata": {},
   "outputs": [
    {
     "data": {
      "image/png": "[encoded data removed]",
      "text/plain": [
       "<Figure size 432x288 with 1 Axes>"
      ]
     },
     "metadata": {},
     "output_type": "display_data"
    }
   ],
   "source": [
    "plt.plot(df_m['loss'])\n",
    "plt.plot(df_m['val_loss'])\n",
    "plt.title('model loss')\n",
    "plt.ylabel('loss')\n",
    "plt.xlabel('epoch')\n",
    "plt.legend(['train_loss', 'val_loss'])\n",
    "plt.show()"
   ]
  },
  {
   "cell_type": "code",
   "execution_count": 206,
   "metadata": {},
   "outputs": [
    {
     "data": {
      "image/png": "[encoded data removed]",
      "text/plain": [
       "<Figure size 432x288 with 1 Axes>"
      ]
     },
     "metadata": {},
     "output_type": "display_data"
    }
   ],
   "source": [
    "plt.plot(df_m['accuracy'])\n",
    "plt.plot(df_m['val_accuracy'])\n",
    "plt.title('model accuracy')\n",
    "plt.ylabel('accuracy')\n",
    "plt.xlabel('epoch')\n",
    "plt.legend(['train_acc', 'val_acc'])\n",
    "plt.show()"
   ]
  },
  {
   "cell_type": "code",
   "execution_count": 207,
   "metadata": {},
   "outputs": [
    {
     "data": {
      "image/png": "[encoded data removed]",
      "text/plain": [
       "<Figure size 648x648 with 2 Axes>"
      ]
     },
     "metadata": {},
     "output_type": "display_data"
    }
   ],
   "source": [
    "#LinearSVC\n",
    "confusion_matrix(lsvc_cm,lsvc_score)\n"
   ]
  },
  {
   "cell_type": "code",
   "execution_count": 208,
   "metadata": {},
   "outputs": [
    {
     "data": {
      "image/png": "[encoded data removed]",
      "text/plain": [
       "<Figure size 648x648 with 2 Axes>"
      ]
     },
     "metadata": {},
     "output_type": "display_data"
    }
   ],
   "source": [
    "#Gaussuan Naive Bayes\n",
    "confusion_matrix(gnb_cm,gnb_score)\n"
   ]
  },
  {
   "cell_type": "code",
   "execution_count": 209,
   "metadata": {},
   "outputs": [
    {
     "data": {
      "image/png": "[encoded data removed]",
      "text/plain": [
       "<Figure size 648x648 with 2 Axes>"
      ]
     },
     "metadata": {},
     "output_type": "display_data"
    }
   ],
   "source": [
    "#Logistic Regression\n",
    "confusion_matrix(lr_cm,lr_score)\n"
   ]
  },
  {
   "cell_type": "code",
   "execution_count": 210,
   "metadata": {},
   "outputs": [
    {
     "data": {
      "image/png": "[encoded data removed]",
      "text/plain": [
       "<Figure size 648x648 with 2 Axes>"
      ]
     },
     "metadata": {},
     "output_type": "display_data"
    }
   ],
   "source": [
    "#Random Forest Classifier\n",
    "confusion_matrix(rfc_cm,rfc_score)"
   ]
  }
 ],
 "metadata": {
  "kernelspec": {
   "display_name": "Python 3",
   "language": "python",
   "name": "python3"
  },
  "language_info": {
   "codemirror_mode": {
    "name": "ipython",
    "version": 3
   },
   "file_extension": ".py",
   "mimetype": "text/x-python",
   "name": "python",
   "nbconvert_exporter": "python",
   "pygments_lexer": "ipython3",
   "version": "3.8.3"
  }
 },
 "nbformat": 4,
 "nbformat_minor": 4
}
