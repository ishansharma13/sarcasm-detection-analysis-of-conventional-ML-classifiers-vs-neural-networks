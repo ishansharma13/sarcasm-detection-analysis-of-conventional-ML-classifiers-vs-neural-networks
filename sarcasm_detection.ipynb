{
 "cells": [
  {
   "cell_type": "code",
   "execution_count": 102,
   "metadata": {},
   "outputs": [],
   "source": [
    "import pandas as pd, numpy as np, re, time\n",
    "from nltk.stem.porter import PorterStemmer\n"
   ]
  },
  {
   "cell_type": "code",
   "execution_count": 103,
   "metadata": {},
   "outputs": [],
   "source": [
    "from sklearn.model_selection import train_test_split\n",
    "from sklearn.metrics import confusion_matrix\n",
    "from sklearn.svm import LinearSVC\n",
    "from sklearn.model_selection import cross_val_score\n",
    "from sklearn.naive_bayes import GaussianNB\n",
    "from sklearn.linear_model import LogisticRegression\n",
    "from sklearn.ensemble import RandomForestClassifier\n",
    "from sklearn import metrics\n",
    "from sklearn.metrics import accuracy_score, precision_score, recall_score,average_precision_score,plot_precision_recall_curve\n",
    "import matplotlib.pyplot as plt\n"
   ]
  },
  {
   "cell_type": "code",
   "execution_count": 104,
   "metadata": {},
   "outputs": [],
   "source": [
    "import matplotlib.pyplot as plt\n",
    "import seaborn as sns\n",
    "%matplotlib inline"
   ]
  },
  {
   "cell_type": "code",
   "execution_count": 105,
   "metadata": {},
   "outputs": [],
   "source": [
    "s = 'Sarcasm_Headlines_Dataset.json'\n",
    "data = pd.read_json(s, lines = True)"
   ]
  },
  {
   "cell_type": "code",
   "execution_count": 106,
   "metadata": {},
   "outputs": [
    {
     "name": "stdout",
     "output_type": "stream",
     "text": [
      "<class 'pandas.core.frame.DataFrame'>\n",
      "RangeIndex: 26709 entries, 0 to 26708\n",
      "Data columns (total 3 columns):\n",
      " #   Column        Non-Null Count  Dtype \n",
      "---  ------        --------------  ----- \n",
      " 0   article_link  26709 non-null  object\n",
      " 1   headline      26709 non-null  object\n",
      " 2   is_sarcastic  26709 non-null  int64 \n",
      "dtypes: int64(1), object(2)\n",
      "memory usage: 626.1+ KB\n"
     ]
    }
   ],
   "source": [
    "data.info()"
   ]
  },
  {
   "cell_type": "code",
   "execution_count": 107,
   "metadata": {},
   "outputs": [],
   "source": [
    "#from above we gather that the dataset is composed of three attributes or features or columns\n",
    "# out of which two are non-integer types and one is integer type"
   ]
  },
  {
   "cell_type": "code",
   "execution_count": 108,
   "metadata": {},
   "outputs": [
    {
     "data": {
      "text/html": [
       "<div>\n",
       "<style scoped>\n",
       "    .dataframe tbody tr th:only-of-type {\n",
       "        vertical-align: middle;\n",
       "    }\n",
       "\n",
       "    .dataframe tbody tr th {\n",
       "        vertical-align: top;\n",
       "    }\n",
       "\n",
       "    .dataframe thead th {\n",
       "        text-align: right;\n",
       "    }\n",
       "</style>\n",
       "<table border=\"1\" class=\"dataframe\">\n",
       "  <thead>\n",
       "    <tr style=\"text-align: right;\">\n",
       "      <th></th>\n",
       "      <th>article_link</th>\n",
       "      <th>headline</th>\n",
       "      <th>is_sarcastic</th>\n",
       "    </tr>\n",
       "  </thead>\n",
       "  <tbody>\n",
       "    <tr>\n",
       "      <th>0</th>\n",
       "      <td>https://www.huffingtonpost.com/entry/versace-b...</td>\n",
       "      <td>former versace store clerk sues over secret 'b...</td>\n",
       "      <td>0</td>\n",
       "    </tr>\n",
       "    <tr>\n",
       "      <th>1</th>\n",
       "      <td>https://www.huffingtonpost.com/entry/roseanne-...</td>\n",
       "      <td>the 'roseanne' revival catches up to our thorn...</td>\n",
       "      <td>0</td>\n",
       "    </tr>\n",
       "    <tr>\n",
       "      <th>2</th>\n",
       "      <td>https://local.theonion.com/mom-starting-to-fea...</td>\n",
       "      <td>mom starting to fear son's web series closest ...</td>\n",
       "      <td>1</td>\n",
       "    </tr>\n",
       "    <tr>\n",
       "      <th>3</th>\n",
       "      <td>https://politics.theonion.com/boehner-just-wan...</td>\n",
       "      <td>boehner just wants wife to listen, not come up...</td>\n",
       "      <td>1</td>\n",
       "    </tr>\n",
       "    <tr>\n",
       "      <th>4</th>\n",
       "      <td>https://www.huffingtonpost.com/entry/jk-rowlin...</td>\n",
       "      <td>j.k. rowling wishes snape happy birthday in th...</td>\n",
       "      <td>0</td>\n",
       "    </tr>\n",
       "  </tbody>\n",
       "</table>\n",
       "</div>"
      ],
      "text/plain": [
       "                                        article_link  \\\n",
       "0  https://www.huffingtonpost.com/entry/versace-b...   \n",
       "1  https://www.huffingtonpost.com/entry/roseanne-...   \n",
       "2  https://local.theonion.com/mom-starting-to-fea...   \n",
       "3  https://politics.theonion.com/boehner-just-wan...   \n",
       "4  https://www.huffingtonpost.com/entry/jk-rowlin...   \n",
       "\n",
       "                                            headline  is_sarcastic  \n",
       "0  former versace store clerk sues over secret 'b...             0  \n",
       "1  the 'roseanne' revival catches up to our thorn...             0  \n",
       "2  mom starting to fear son's web series closest ...             1  \n",
       "3  boehner just wants wife to listen, not come up...             1  \n",
       "4  j.k. rowling wishes snape happy birthday in th...             0  "
      ]
     },
     "execution_count": 108,
     "metadata": {},
     "output_type": "execute_result"
    }
   ],
   "source": [
    "data.head()"
   ]
  },
  {
   "cell_type": "code",
   "execution_count": 109,
   "metadata": {},
   "outputs": [
    {
     "data": {
      "text/plain": [
       "0    14985\n",
       "1    11724\n",
       "Name: is_sarcastic, dtype: int64"
      ]
     },
     "execution_count": 109,
     "metadata": {},
     "output_type": "execute_result"
    }
   ],
   "source": [
    "data['is_sarcastic'].value_counts()"
   ]
  },
  {
   "cell_type": "code",
   "execution_count": 110,
   "metadata": {},
   "outputs": [
    {
     "data": {
      "text/plain": [
       "<matplotlib.axes._subplots.AxesSubplot at 0x1d10d05e0>"
      ]
     },
     "execution_count": 110,
     "metadata": {},
     "output_type": "execute_result"
    },
    {
     "data": {
      "image/png": "[encoded data removed]",
      "text/plain": [
       "<Figure size 432x288 with 1 Axes>"
      ]
     },
     "metadata": {},
     "output_type": "display_data"
    }
   ],
   "source": [
    "sns.set_style('whitegrid')\n",
    "sns.countplot(x='is_sarcastic',data=data, palette='YlGnBu_r')"
   ]
  },
  {
   "cell_type": "code",
   "execution_count": 111,
   "metadata": {},
   "outputs": [
    {
     "name": "stdout",
     "output_type": "stream",
     "text": [
      "Requirement already satisfied: tensorflow in /Users/ishansharma/anaconda3/lib/python3.8/site-packages (2.4.0)\n",
      "Requirement already satisfied: grpcio~=1.32.0 in /Users/ishansharma/anaconda3/lib/python3.8/site-packages (from tensorflow) (1.32.0)\n",
      "Requirement already satisfied: protobuf>=3.9.2 in /Users/ishansharma/anaconda3/lib/python3.8/site-packages (from tensorflow) (3.14.0)\n",
      "Requirement already satisfied: six~=1.15.0 in /Users/ishansharma/anaconda3/lib/python3.8/site-packages (from tensorflow) (1.15.0)\n",
      "Requirement already satisfied: typing-extensions~=3.7.4 in /Users/ishansharma/anaconda3/lib/python3.8/site-packages (from tensorflow) (3.7.4.2)\n",
      "Requirement already satisfied: tensorboard~=2.4 in /Users/ishansharma/anaconda3/lib/python3.8/site-packages (from tensorflow) (2.4.0)\n",
      "Requirement already satisfied: google-pasta~=0.2 in /Users/ishansharma/anaconda3/lib/python3.8/site-packages (from tensorflow) (0.2.0)\n",
      "Requirement already satisfied: wrapt~=1.12.1 in /Users/ishansharma/anaconda3/lib/python3.8/site-packages (from tensorflow) (1.12.1)\n",
      "Requirement already satisfied: gast==0.3.3 in /Users/ishansharma/anaconda3/lib/python3.8/site-packages (from tensorflow) (0.3.3)\n",
      "Requirement already satisfied: termcolor~=1.1.0 in /Users/ishansharma/anaconda3/lib/python3.8/site-packages (from tensorflow) (1.1.0)\n",
      "Requirement already satisfied: opt-einsum~=3.3.0 in /Users/ishansharma/anaconda3/lib/python3.8/site-packages (from tensorflow) (3.3.0)\n",
      "Requirement already satisfied: wheel~=0.35 in /Users/ishansharma/anaconda3/lib/python3.8/site-packages (from tensorflow) (0.36.2)\n",
      "Requirement already satisfied: astunparse~=1.6.3 in /Users/ishansharma/anaconda3/lib/python3.8/site-packages (from tensorflow) (1.6.3)\n",
      "Requirement already satisfied: h5py~=2.10.0 in /Users/ishansharma/anaconda3/lib/python3.8/site-packages (from tensorflow) (2.10.0)\n",
      "Requirement already satisfied: flatbuffers~=1.12.0 in /Users/ishansharma/anaconda3/lib/python3.8/site-packages (from tensorflow) (1.12)\n",
      "Requirement already satisfied: numpy~=1.19.2 in /Users/ishansharma/anaconda3/lib/python3.8/site-packages (from tensorflow) (1.19.4)\n",
      "Requirement already satisfied: tensorflow-estimator<2.5.0,>=2.4.0rc0 in /Users/ishansharma/anaconda3/lib/python3.8/site-packages (from tensorflow) (2.4.0)\n",
      "Requirement already satisfied: keras-preprocessing~=1.1.2 in /Users/ishansharma/anaconda3/lib/python3.8/site-packages (from tensorflow) (1.1.2)\n",
      "Requirement already satisfied: absl-py~=0.10 in /Users/ishansharma/anaconda3/lib/python3.8/site-packages (from tensorflow) (0.11.0)\n",
      "Requirement already satisfied: google-auth-oauthlib<0.5,>=0.4.1 in /Users/ishansharma/anaconda3/lib/python3.8/site-packages (from tensorboard~=2.4->tensorflow) (0.4.2)\n",
      "Requirement already satisfied: setuptools>=41.0.0 in /Users/ishansharma/anaconda3/lib/python3.8/site-packages (from tensorboard~=2.4->tensorflow) (49.2.0.post20200714)\n",
      "Requirement already satisfied: werkzeug>=0.11.15 in /Users/ishansharma/anaconda3/lib/python3.8/site-packages (from tensorboard~=2.4->tensorflow) (1.0.1)\n",
      "Requirement already satisfied: markdown>=2.6.8 in /Users/ishansharma/anaconda3/lib/python3.8/site-packages (from tensorboard~=2.4->tensorflow) (3.3.3)\n",
      "Requirement already satisfied: google-auth<2,>=1.6.3 in /Users/ishansharma/anaconda3/lib/python3.8/site-packages (from tensorboard~=2.4->tensorflow) (1.24.0)\n",
      "Requirement already satisfied: tensorboard-plugin-wit>=1.6.0 in /Users/ishansharma/anaconda3/lib/python3.8/site-packages (from tensorboard~=2.4->tensorflow) (1.7.0)\n",
      "Requirement already satisfied: requests<3,>=2.21.0 in /Users/ishansharma/anaconda3/lib/python3.8/site-packages (from tensorboard~=2.4->tensorflow) (2.24.0)\n",
      "Requirement already satisfied: requests-oauthlib>=0.7.0 in /Users/ishansharma/anaconda3/lib/python3.8/site-packages (from google-auth-oauthlib<0.5,>=0.4.1->tensorboard~=2.4->tensorflow) (1.3.0)\n",
      "Requirement already satisfied: cachetools<5.0,>=2.0.0 in /Users/ishansharma/anaconda3/lib/python3.8/site-packages (from google-auth<2,>=1.6.3->tensorboard~=2.4->tensorflow) (4.2.0)\n",
      "Requirement already satisfied: rsa<5,>=3.1.4; python_version >= \"3.6\" in /Users/ishansharma/anaconda3/lib/python3.8/site-packages (from google-auth<2,>=1.6.3->tensorboard~=2.4->tensorflow) (4.6)\n",
      "Requirement already satisfied: pyasn1-modules>=0.2.1 in /Users/ishansharma/anaconda3/lib/python3.8/site-packages (from google-auth<2,>=1.6.3->tensorboard~=2.4->tensorflow) (0.2.8)\n",
      "Requirement already satisfied: urllib3!=1.25.0,!=1.25.1,<1.26,>=1.21.1 in /Users/ishansharma/anaconda3/lib/python3.8/site-packages (from requests<3,>=2.21.0->tensorboard~=2.4->tensorflow) (1.25.9)\n",
      "Requirement already satisfied: certifi>=2017.4.17 in /Users/ishansharma/anaconda3/lib/python3.8/site-packages (from requests<3,>=2.21.0->tensorboard~=2.4->tensorflow) (2020.6.20)\n",
      "Requirement already satisfied: idna<3,>=2.5 in /Users/ishansharma/anaconda3/lib/python3.8/site-packages (from requests<3,>=2.21.0->tensorboard~=2.4->tensorflow) (2.10)\n",
      "Requirement already satisfied: chardet<4,>=3.0.2 in /Users/ishansharma/anaconda3/lib/python3.8/site-packages (from requests<3,>=2.21.0->tensorboard~=2.4->tensorflow) (3.0.4)\n",
      "Requirement already satisfied: oauthlib>=3.0.0 in /Users/ishansharma/anaconda3/lib/python3.8/site-packages (from requests-oauthlib>=0.7.0->google-auth-oauthlib<0.5,>=0.4.1->tensorboard~=2.4->tensorflow) (3.1.0)\n",
      "Requirement already satisfied: pyasn1>=0.1.3 in /Users/ishansharma/anaconda3/lib/python3.8/site-packages (from rsa<5,>=3.1.4; python_version >= \"3.6\"->google-auth<2,>=1.6.3->tensorboard~=2.4->tensorflow) (0.4.8)\n",
      "Note: you may need to restart the kernel to use updated packages.\n"
     ]
    }
   ],
   "source": [
    "pip install tensorflow"
   ]
  },
  {
   "cell_type": "code",
   "execution_count": 112,
   "metadata": {},
   "outputs": [
    {
     "name": "stdout",
     "output_type": "stream",
     "text": [
      "article_link    False\n",
      "headline        False\n",
      "is_sarcastic    False\n",
      "dtype: bool\n"
     ]
    }
   ],
   "source": [
    "#from this we gather that the first attribute is the link to headline(i.e., the sencond attribute)\n",
    "\n",
    "\n",
    "#checking missing values if any\n",
    "print(data.isnull().any(axis = 0))"
   ]
  },
  {
   "cell_type": "code",
   "execution_count": 113,
   "metadata": {},
   "outputs": [],
   "source": [
    "def remove_special_symbols(data):\n",
    "    data['headline'] = data['headline'].apply(lambda s : re.sub('[^a-zA-Z]', ' ', s))\n",
    "    return data\n",
    "def confusion_matrix(val,score,model):\n",
    "    plt.figure(figsize=(9,9))\n",
    "    sns.heatmap(val, annot=True, fmt=\".3f\", linewidths=.5, square = True, cmap = 'Blues_r');\n",
    "    plt.ylabel('Actual label');\n",
    "    plt.xlabel('Predicted label');\n",
    "    all_sample_title = 'Accuracy Score for ' + model.upper() +' : {0}'.format(score)\n",
    "    plt.title(all_sample_title, size = 15)\n",
    "    plt.show()"
   ]
  },
  {
   "cell_type": "code",
   "execution_count": null,
   "metadata": {},
   "outputs": [],
   "source": []
  },
  {
   "cell_type": "code",
   "execution_count": null,
   "metadata": {},
   "outputs": [],
   "source": []
  },
  {
   "cell_type": "code",
   "execution_count": null,
   "metadata": {},
   "outputs": [],
   "source": []
  },
  {
   "cell_type": "code",
   "execution_count": null,
   "metadata": {},
   "outputs": [],
   "source": []
  },
  {
   "cell_type": "code",
   "execution_count": 114,
   "metadata": {},
   "outputs": [],
   "source": [
    "data = remove_special_symbols(data)"
   ]
  },
  {
   "cell_type": "code",
   "execution_count": 115,
   "metadata": {},
   "outputs": [],
   "source": [
    "#selecting features and labels\n",
    "#if we carefully look at the above dataset\n",
    "#we may see that article_link(i.e., the link to the news headline) does not seem to have any impact on the result(i.e., to find whether the headline is sarcastic or not)\n",
    "#this means we can neglect it while selecting features\n",
    "features = data['headline']\n",
    "labels = data['is_sarcastic']"
   ]
  },
  {
   "cell_type": "code",
   "execution_count": 116,
   "metadata": {},
   "outputs": [],
   "source": [
    "# Stemming our data\n",
    "ps = PorterStemmer()\n",
    "features = features.apply(lambda x: x.split())\n",
    "features = features.apply(lambda x :' '.join([ps.stem(word) for word in x]))\n"
   ]
  },
  {
   "cell_type": "code",
   "execution_count": 117,
   "metadata": {},
   "outputs": [],
   "source": [
    "# vectorizing the data with maximum of 5000 features\n",
    "from sklearn.feature_extraction.text import TfidfVectorizer\n",
    "tv = TfidfVectorizer(max_features = 5000)\n",
    "features = list(features)\n",
    "features = tv.fit_transform(features).toarray()\n"
   ]
  },
  {
   "cell_type": "code",
   "execution_count": 118,
   "metadata": {},
   "outputs": [],
   "source": [
    "features_train, features_test, labels_train, labels_test = train_test_split(features, labels, test_size = .05, random_state = 0)"
   ]
  },
  {
   "cell_type": "code",
   "execution_count": 119,
   "metadata": {},
   "outputs": [
    {
     "name": "stdout",
     "output_type": "stream",
     "text": [
      "90.98254049580262\n",
      "83.60778443113772\n"
     ]
    }
   ],
   "source": [
    "lsvc = LinearSVC()\n",
    "# training the model\n",
    "lsvc.fit(features_train, labels_train)\n",
    "lsvc_predictions = lsvc.predict(features_test)\n",
    "lsvc_cm = metrics.confusion_matrix(labels_test, lsvc_predictions)\n",
    "\n",
    "lsvc_score = lsvc.score(features_test,labels_test)\n",
    "\n",
    "\n",
    "\n",
    "# getting the score of train and test data\n",
    "print(lsvc.score(features_train, labels_train)*100) # 90.98\n",
    "print(lsvc.score(features_test, labels_test)*100)   # 83.60"
   ]
  },
  {
   "cell_type": "code",
   "execution_count": 120,
   "metadata": {},
   "outputs": [
    {
     "name": "stdout",
     "output_type": "stream",
     "text": [
      "88.19217278209119\n",
      "83.08383233532935\n"
     ]
    }
   ],
   "source": [
    "lr = LogisticRegression()\n",
    "# training the model\n",
    "lr.fit(features_train, labels_train)\n",
    "lr_predictions = lr.predict(features_test)\n",
    "lr_cm = metrics.confusion_matrix(labels_test, lr_predictions)\n",
    "\n",
    "lr_score = lr.score(features_test,labels_test)\n",
    "\n",
    "\n",
    "\n",
    "# getting the score of train and test data\n",
    "print(lr.score(features_train, labels_train)*100) # 88.19\n",
    "print(lr.score(features_test, labels_test)*100)   # 83.08"
   ]
  },
  {
   "cell_type": "code",
   "execution_count": 121,
   "metadata": {},
   "outputs": [
    {
     "name": "stdout",
     "output_type": "stream",
     "text": [
      "78.39041500807944\n",
      "73.35329341317365\n"
     ]
    }
   ],
   "source": [
    "# Using Gaussuan Naive Bayes\n",
    "gnb = GaussianNB()\n",
    "gnb.fit(features_train, labels_train)\n",
    "gnb_predictions = gnb.predict(features_test)\n",
    "gnb_cm = metrics.confusion_matrix(labels_test, gnb_predictions)\n",
    "\n",
    "gnb_score = gnb.score(features_test,labels_test)\n",
    "\n",
    "\n",
    "\n",
    "print(gnb.score(features_train, labels_train)*100)  # 78.39\n",
    "print(gnb.score(features_test, labels_test)*100)    # 73.35"
   ]
  },
  {
   "cell_type": "code",
   "execution_count": 122,
   "metadata": {},
   "outputs": [
    {
     "name": "stdout",
     "output_type": "stream",
     "text": [
      "98.84522918062507\n",
      "78.96706586826348\n"
     ]
    }
   ],
   "source": [
    "# Random Forest Classifier\n",
    "rfc = RandomForestClassifier(n_estimators = 10, random_state = 0)\n",
    "rfc.fit(features_train, labels_train)\n",
    "\n",
    "rfc_predictions = rfc.predict(features_test)\n",
    "rfc_cm = metrics.confusion_matrix(labels_test, rfc_predictions)\n",
    "\n",
    "rfc_score = rfc.score(features_test,labels_test)\n",
    "\n",
    "\n",
    "\n",
    "\n",
    "print(rfc.score(features_train, labels_train)*100)  # 98.84\n",
    "print(rfc.score(features_test, labels_test)*100)    # 78.96"
   ]
  },
  {
   "cell_type": "code",
   "execution_count": 123,
   "metadata": {},
   "outputs": [],
   "source": [
    "X=data['headline'].values\n",
    "y=data['is_sarcastic'].values\n",
    "X_train, X_test, y_train, y_test = train_test_split(X, y, test_size=0.50, random_state=0)\n"
   ]
  },
  {
   "cell_type": "code",
   "execution_count": 124,
   "metadata": {},
   "outputs": [],
   "source": [
    "vocab_size=10000\n",
    "embedding_dim=16\n",
    "max_length=32\n",
    "trunc_type='post'\n",
    "padding_type='post'\n",
    "oov_tok='<oov>'\n",
    "from tensorflow.keras.preprocessing.text import Tokenizer\n",
    "from tensorflow.keras.preprocessing.sequence import pad_sequences\n",
    "tokenizer= Tokenizer(num_words=vocab_size, oov_token=oov_tok)\n",
    "tokenizer.fit_on_texts(X_train)\n",
    "word_index=tokenizer.word_index\n",
    "training_sequences=tokenizer.texts_to_sequences(X_train)\n",
    "training_padded=pad_sequences(training_sequences, maxlen=max_length, padding=padding_type, truncating=trunc_type)\n",
    "testing_sequences=tokenizer.texts_to_sequences(X_test)\n",
    "testing_padded=pad_sequences(testing_sequences, maxlen=max_length, padding=padding_type, truncating=trunc_type)"
   ]
  },
  {
   "cell_type": "code",
   "execution_count": 125,
   "metadata": {},
   "outputs": [
    {
     "name": "stdout",
     "output_type": "stream",
     "text": [
      "Model: \"sequential_2\"\n",
      "_________________________________________________________________\n",
      "Layer (type)                 Output Shape              Param #   \n",
      "=================================================================\n",
      "embedding_2 (Embedding)      (None, 32, 16)            160000    \n",
      "_________________________________________________________________\n",
      "flatten_2 (Flatten)          (None, 512)               0         \n",
      "_________________________________________________________________\n",
      "dense_6 (Dense)              (None, 32)                16416     \n",
      "_________________________________________________________________\n",
      "dropout_4 (Dropout)          (None, 32)                0         \n",
      "_________________________________________________________________\n",
      "dense_7 (Dense)              (None, 10)                330       \n",
      "_________________________________________________________________\n",
      "dropout_5 (Dropout)          (None, 10)                0         \n",
      "_________________________________________________________________\n",
      "dense_8 (Dense)              (None, 1)                 11        \n",
      "=================================================================\n",
      "Total params: 176,757\n",
      "Trainable params: 176,757\n",
      "Non-trainable params: 0\n",
      "_________________________________________________________________\n"
     ]
    }
   ],
   "source": [
    "import tensorflow as tf\n",
    "from tensorflow.keras.models import Sequential\n",
    "from tensorflow.keras.layers import Dense, Dropout, Embedding, Flatten\n",
    "model = Sequential()\n",
    "model.add(Embedding(vocab_size, embedding_dim, input_length=max_length))\n",
    "model.add(Flatten())\n",
    "model.add(Dense(units=32,activation='relu'))\n",
    "model.add(Dropout(0.5))\n",
    "model.add(Dense(units=10,activation='relu'))\n",
    "model.add(Dropout(0.5))\n",
    "model.add(Dense(units=1,activation='sigmoid'))\n",
    "opt = tf.keras.optimizers.Adam(learning_rate=0.0001)\n",
    "model.compile(loss='binary_crossentropy', optimizer=opt, metrics=['accuracy'])\n",
    "model.summary()\n"
   ]
  },
  {
   "cell_type": "code",
   "execution_count": 126,
   "metadata": {},
   "outputs": [
    {
     "name": "stdout",
     "output_type": "stream",
     "text": [
      "Epoch 1/100\n",
      "53/53 [==============================] - 2s 15ms/step - loss: 0.6964 - accuracy: 0.4733 - val_loss: 0.6925 - val_accuracy: 0.5573\n",
      "Epoch 2/100\n",
      "53/53 [==============================] - 0s 6ms/step - loss: 0.6927 - accuracy: 0.5197 - val_loss: 0.6917 - val_accuracy: 0.5640\n",
      "Epoch 3/100\n",
      "53/53 [==============================] - 0s 8ms/step - loss: 0.6919 - accuracy: 0.5458 - val_loss: 0.6912 - val_accuracy: 0.5634\n",
      "Epoch 4/100\n",
      "53/53 [==============================] - 0s 6ms/step - loss: 0.6914 - accuracy: 0.5524 - val_loss: 0.6906 - val_accuracy: 0.5629\n",
      "Epoch 5/100\n",
      "53/53 [==============================] - 0s 7ms/step - loss: 0.6907 - accuracy: 0.5601 - val_loss: 0.6900 - val_accuracy: 0.5627\n",
      "Epoch 6/100\n",
      "53/53 [==============================] - 0s 6ms/step - loss: 0.6903 - accuracy: 0.5597 - val_loss: 0.6894 - val_accuracy: 0.5626\n",
      "Epoch 7/100\n",
      "53/53 [==============================] - 0s 6ms/step - loss: 0.6899 - accuracy: 0.5628 - val_loss: 0.6886 - val_accuracy: 0.5625\n",
      "Epoch 8/100\n",
      "53/53 [==============================] - 0s 7ms/step - loss: 0.6887 - accuracy: 0.5638 - val_loss: 0.6877 - val_accuracy: 0.5632\n",
      "Epoch 9/100\n",
      "53/53 [==============================] - 0s 6ms/step - loss: 0.6882 - accuracy: 0.5589 - val_loss: 0.6865 - val_accuracy: 0.5644\n",
      "Epoch 10/100\n",
      "53/53 [==============================] - 1s 12ms/step - loss: 0.6861 - accuracy: 0.5747 - val_loss: 0.6845 - val_accuracy: 0.5701\n",
      "Epoch 11/100\n",
      "53/53 [==============================] - 1s 10ms/step - loss: 0.6854 - accuracy: 0.5777 - val_loss: 0.6815 - val_accuracy: 0.5912\n",
      "Epoch 12/100\n",
      "53/53 [==============================] - 1s 11ms/step - loss: 0.6816 - accuracy: 0.6022 - val_loss: 0.6750 - val_accuracy: 0.6742\n",
      "Epoch 13/100\n",
      "53/53 [==============================] - 1s 11ms/step - loss: 0.6738 - accuracy: 0.6260 - val_loss: 0.6642 - val_accuracy: 0.7331\n",
      "Epoch 14/100\n",
      "53/53 [==============================] - 1s 10ms/step - loss: 0.6627 - accuracy: 0.6593 - val_loss: 0.6494 - val_accuracy: 0.7537\n",
      "Epoch 15/100\n",
      "53/53 [==============================] - 1s 12ms/step - loss: 0.6456 - accuracy: 0.7037 - val_loss: 0.6307 - val_accuracy: 0.7822\n",
      "Epoch 16/100\n",
      "53/53 [==============================] - 0s 9ms/step - loss: 0.6264 - accuracy: 0.7375 - val_loss: 0.6104 - val_accuracy: 0.7906\n",
      "Epoch 17/100\n",
      "53/53 [==============================] - 0s 8ms/step - loss: 0.6034 - accuracy: 0.7617 - val_loss: 0.5879 - val_accuracy: 0.8000\n",
      "Epoch 18/100\n",
      "53/53 [==============================] - 0s 6ms/step - loss: 0.5764 - accuracy: 0.7775 - val_loss: 0.5647 - val_accuracy: 0.8073\n",
      "Epoch 19/100\n",
      "53/53 [==============================] - 0s 6ms/step - loss: 0.5548 - accuracy: 0.7947 - val_loss: 0.5424 - val_accuracy: 0.8285\n",
      "Epoch 20/100\n",
      "53/53 [==============================] - 0s 7ms/step - loss: 0.5372 - accuracy: 0.8164 - val_loss: 0.5207 - val_accuracy: 0.8306\n",
      "Epoch 21/100\n",
      "53/53 [==============================] - 0s 7ms/step - loss: 0.5071 - accuracy: 0.8245 - val_loss: 0.5008 - val_accuracy: 0.8374\n",
      "Epoch 22/100\n",
      "53/53 [==============================] - 0s 9ms/step - loss: 0.4808 - accuracy: 0.8434 - val_loss: 0.4815 - val_accuracy: 0.8394\n",
      "Epoch 23/100\n",
      "53/53 [==============================] - 0s 7ms/step - loss: 0.4614 - accuracy: 0.8510 - val_loss: 0.4645 - val_accuracy: 0.8437\n",
      "Epoch 24/100\n",
      "53/53 [==============================] - 0s 8ms/step - loss: 0.4439 - accuracy: 0.8620 - val_loss: 0.4496 - val_accuracy: 0.8466\n",
      "Epoch 25/100\n",
      "53/53 [==============================] - 0s 6ms/step - loss: 0.4189 - accuracy: 0.8714 - val_loss: 0.4348 - val_accuracy: 0.8493\n",
      "Epoch 26/100\n",
      "53/53 [==============================] - 0s 6ms/step - loss: 0.4064 - accuracy: 0.8699 - val_loss: 0.4232 - val_accuracy: 0.8511\n",
      "Epoch 27/100\n",
      "53/53 [==============================] - 0s 6ms/step - loss: 0.3893 - accuracy: 0.8838 - val_loss: 0.4128 - val_accuracy: 0.8509\n",
      "Epoch 28/100\n",
      "53/53 [==============================] - 0s 6ms/step - loss: 0.3685 - accuracy: 0.8977 - val_loss: 0.4048 - val_accuracy: 0.8515\n",
      "Epoch 29/100\n",
      "53/53 [==============================] - 0s 6ms/step - loss: 0.3574 - accuracy: 0.8997 - val_loss: 0.3955 - val_accuracy: 0.8547\n",
      "Epoch 30/100\n",
      "53/53 [==============================] - 0s 7ms/step - loss: 0.3414 - accuracy: 0.9078 - val_loss: 0.3878 - val_accuracy: 0.8558\n",
      "Epoch 31/100\n",
      "53/53 [==============================] - 0s 6ms/step - loss: 0.3310 - accuracy: 0.9130 - val_loss: 0.3815 - val_accuracy: 0.8564\n",
      "Epoch 32/100\n",
      "53/53 [==============================] - 0s 6ms/step - loss: 0.3179 - accuracy: 0.9192 - val_loss: 0.3798 - val_accuracy: 0.8551\n",
      "Epoch 33/100\n",
      "53/53 [==============================] - 0s 6ms/step - loss: 0.3044 - accuracy: 0.9230 - val_loss: 0.3720 - val_accuracy: 0.8562\n",
      "Epoch 34/100\n",
      "53/53 [==============================] - 0s 8ms/step - loss: 0.3017 - accuracy: 0.9228 - val_loss: 0.3695 - val_accuracy: 0.8564\n",
      "Epoch 35/100\n",
      "53/53 [==============================] - 0s 7ms/step - loss: 0.2862 - accuracy: 0.9303 - val_loss: 0.3640 - val_accuracy: 0.8567\n",
      "Epoch 36/100\n",
      "53/53 [==============================] - 0s 7ms/step - loss: 0.2735 - accuracy: 0.9369 - val_loss: 0.3644 - val_accuracy: 0.8562\n",
      "Epoch 37/100\n",
      "53/53 [==============================] - 0s 7ms/step - loss: 0.2697 - accuracy: 0.9420 - val_loss: 0.3632 - val_accuracy: 0.8561\n",
      "Epoch 38/100\n",
      "53/53 [==============================] - 0s 8ms/step - loss: 0.2562 - accuracy: 0.9446 - val_loss: 0.3614 - val_accuracy: 0.8551\n",
      "Epoch 39/100\n",
      "53/53 [==============================] - 1s 11ms/step - loss: 0.2486 - accuracy: 0.9499 - val_loss: 0.3620 - val_accuracy: 0.8549\n",
      "Epoch 40/100\n",
      "53/53 [==============================] - 0s 8ms/step - loss: 0.2383 - accuracy: 0.9487 - val_loss: 0.3628 - val_accuracy: 0.8543\n",
      "Epoch 41/100\n",
      "53/53 [==============================] - 0s 8ms/step - loss: 0.2342 - accuracy: 0.9537 - val_loss: 0.3617 - val_accuracy: 0.8553\n",
      "Epoch 42/100\n",
      "53/53 [==============================] - 0s 7ms/step - loss: 0.2279 - accuracy: 0.9544 - val_loss: 0.3617 - val_accuracy: 0.8547\n",
      "Epoch 43/100\n",
      "53/53 [==============================] - 1s 10ms/step - loss: 0.2214 - accuracy: 0.9579 - val_loss: 0.3632 - val_accuracy: 0.8541\n",
      "Epoch 00043: early stopping\n"
     ]
    },
    {
     "data": {
      "text/plain": [
       "<tensorflow.python.keras.callbacks.History at 0x1211581c0>"
      ]
     },
     "execution_count": 126,
     "metadata": {},
     "output_type": "execute_result"
    }
   ],
   "source": [
    "from tensorflow.keras.callbacks import EarlyStopping\n",
    "early_stop = EarlyStopping(monitor='val_loss', mode='min', verbose=1, patience=5)\n",
    "model.fit(x=training_padded, y=y_train, batch_size=256, epochs=100, validation_data=(testing_padded, y_test), verbose=1, callbacks=[early_stop])\n"
   ]
  },
  {
   "cell_type": "code",
   "execution_count": 127,
   "metadata": {},
   "outputs": [],
   "source": [
    "hist = model.history.history\n",
    "n_epochs_best = len(hist['loss'])"
   ]
  },
  {
   "cell_type": "code",
   "execution_count": 128,
   "metadata": {},
   "outputs": [
    {
     "data": {
      "text/html": [
       "<div>\n",
       "<style scoped>\n",
       "    .dataframe tbody tr th:only-of-type {\n",
       "        vertical-align: middle;\n",
       "    }\n",
       "\n",
       "    .dataframe tbody tr th {\n",
       "        vertical-align: top;\n",
       "    }\n",
       "\n",
       "    .dataframe thead th {\n",
       "        text-align: right;\n",
       "    }\n",
       "</style>\n",
       "<table border=\"1\" class=\"dataframe\">\n",
       "  <thead>\n",
       "    <tr style=\"text-align: right;\">\n",
       "      <th></th>\n",
       "      <th>loss</th>\n",
       "      <th>accuracy</th>\n",
       "      <th>val_loss</th>\n",
       "      <th>val_accuracy</th>\n",
       "      <th>Epoch</th>\n",
       "    </tr>\n",
       "    <tr>\n",
       "      <th>Epoch</th>\n",
       "      <th></th>\n",
       "      <th></th>\n",
       "      <th></th>\n",
       "      <th></th>\n",
       "      <th></th>\n",
       "    </tr>\n",
       "  </thead>\n",
       "  <tbody>\n",
       "    <tr>\n",
       "      <th>1</th>\n",
       "      <td>0.695048</td>\n",
       "      <td>0.484948</td>\n",
       "      <td>0.692531</td>\n",
       "      <td>0.557319</td>\n",
       "      <td>1</td>\n",
       "    </tr>\n",
       "    <tr>\n",
       "      <th>2</th>\n",
       "      <td>0.692532</td>\n",
       "      <td>0.525086</td>\n",
       "      <td>0.691729</td>\n",
       "      <td>0.563984</td>\n",
       "      <td>2</td>\n",
       "    </tr>\n",
       "    <tr>\n",
       "      <th>3</th>\n",
       "      <td>0.691748</td>\n",
       "      <td>0.550022</td>\n",
       "      <td>0.691186</td>\n",
       "      <td>0.563384</td>\n",
       "      <td>3</td>\n",
       "    </tr>\n",
       "    <tr>\n",
       "      <th>4</th>\n",
       "      <td>0.691300</td>\n",
       "      <td>0.556388</td>\n",
       "      <td>0.690620</td>\n",
       "      <td>0.562860</td>\n",
       "      <td>4</td>\n",
       "    </tr>\n",
       "    <tr>\n",
       "      <th>5</th>\n",
       "      <td>0.690853</td>\n",
       "      <td>0.557436</td>\n",
       "      <td>0.690004</td>\n",
       "      <td>0.562711</td>\n",
       "      <td>5</td>\n",
       "    </tr>\n",
       "    <tr>\n",
       "      <th>6</th>\n",
       "      <td>0.690140</td>\n",
       "      <td>0.559083</td>\n",
       "      <td>0.689369</td>\n",
       "      <td>0.562636</td>\n",
       "      <td>6</td>\n",
       "    </tr>\n",
       "    <tr>\n",
       "      <th>7</th>\n",
       "      <td>0.689458</td>\n",
       "      <td>0.561779</td>\n",
       "      <td>0.688628</td>\n",
       "      <td>0.562486</td>\n",
       "      <td>7</td>\n",
       "    </tr>\n",
       "    <tr>\n",
       "      <th>8</th>\n",
       "      <td>0.688906</td>\n",
       "      <td>0.565973</td>\n",
       "      <td>0.687669</td>\n",
       "      <td>0.563235</td>\n",
       "      <td>8</td>\n",
       "    </tr>\n",
       "    <tr>\n",
       "      <th>9</th>\n",
       "      <td>0.687495</td>\n",
       "      <td>0.565823</td>\n",
       "      <td>0.686457</td>\n",
       "      <td>0.564433</td>\n",
       "      <td>9</td>\n",
       "    </tr>\n",
       "    <tr>\n",
       "      <th>10</th>\n",
       "      <td>0.685903</td>\n",
       "      <td>0.574959</td>\n",
       "      <td>0.684457</td>\n",
       "      <td>0.570124</td>\n",
       "      <td>10</td>\n",
       "    </tr>\n",
       "    <tr>\n",
       "      <th>11</th>\n",
       "      <td>0.684256</td>\n",
       "      <td>0.584993</td>\n",
       "      <td>0.681515</td>\n",
       "      <td>0.591164</td>\n",
       "      <td>11</td>\n",
       "    </tr>\n",
       "    <tr>\n",
       "      <th>12</th>\n",
       "      <td>0.679983</td>\n",
       "      <td>0.608282</td>\n",
       "      <td>0.674953</td>\n",
       "      <td>0.674204</td>\n",
       "      <td>12</td>\n",
       "    </tr>\n",
       "    <tr>\n",
       "      <th>13</th>\n",
       "      <td>0.671852</td>\n",
       "      <td>0.634866</td>\n",
       "      <td>0.664215</td>\n",
       "      <td>0.733059</td>\n",
       "      <td>13</td>\n",
       "    </tr>\n",
       "    <tr>\n",
       "      <th>14</th>\n",
       "      <td>0.658935</td>\n",
       "      <td>0.673731</td>\n",
       "      <td>0.649444</td>\n",
       "      <td>0.753650</td>\n",
       "      <td>14</td>\n",
       "    </tr>\n",
       "    <tr>\n",
       "      <th>15</th>\n",
       "      <td>0.641358</td>\n",
       "      <td>0.710648</td>\n",
       "      <td>0.630687</td>\n",
       "      <td>0.782179</td>\n",
       "      <td>15</td>\n",
       "    </tr>\n",
       "    <tr>\n",
       "      <th>16</th>\n",
       "      <td>0.621615</td>\n",
       "      <td>0.740977</td>\n",
       "      <td>0.610358</td>\n",
       "      <td>0.790640</td>\n",
       "      <td>16</td>\n",
       "    </tr>\n",
       "    <tr>\n",
       "      <th>17</th>\n",
       "      <td>0.599016</td>\n",
       "      <td>0.765239</td>\n",
       "      <td>0.587900</td>\n",
       "      <td>0.800000</td>\n",
       "      <td>17</td>\n",
       "    </tr>\n",
       "    <tr>\n",
       "      <th>18</th>\n",
       "      <td>0.573916</td>\n",
       "      <td>0.779167</td>\n",
       "      <td>0.564689</td>\n",
       "      <td>0.807263</td>\n",
       "      <td>18</td>\n",
       "    </tr>\n",
       "    <tr>\n",
       "      <th>19</th>\n",
       "      <td>0.550813</td>\n",
       "      <td>0.798787</td>\n",
       "      <td>0.542401</td>\n",
       "      <td>0.828529</td>\n",
       "      <td>19</td>\n",
       "    </tr>\n",
       "    <tr>\n",
       "      <th>20</th>\n",
       "      <td>0.527128</td>\n",
       "      <td>0.820353</td>\n",
       "      <td>0.520724</td>\n",
       "      <td>0.830550</td>\n",
       "      <td>20</td>\n",
       "    </tr>\n",
       "    <tr>\n",
       "      <th>21</th>\n",
       "      <td>0.504338</td>\n",
       "      <td>0.826120</td>\n",
       "      <td>0.500833</td>\n",
       "      <td>0.837439</td>\n",
       "      <td>21</td>\n",
       "    </tr>\n",
       "    <tr>\n",
       "      <th>22</th>\n",
       "      <td>0.477372</td>\n",
       "      <td>0.843567</td>\n",
       "      <td>0.481456</td>\n",
       "      <td>0.839386</td>\n",
       "      <td>22</td>\n",
       "    </tr>\n",
       "    <tr>\n",
       "      <th>23</th>\n",
       "      <td>0.456030</td>\n",
       "      <td>0.853527</td>\n",
       "      <td>0.464505</td>\n",
       "      <td>0.843729</td>\n",
       "      <td>23</td>\n",
       "    </tr>\n",
       "    <tr>\n",
       "      <th>24</th>\n",
       "      <td>0.439095</td>\n",
       "      <td>0.863187</td>\n",
       "      <td>0.449589</td>\n",
       "      <td>0.846649</td>\n",
       "      <td>24</td>\n",
       "    </tr>\n",
       "    <tr>\n",
       "      <th>25</th>\n",
       "      <td>0.416638</td>\n",
       "      <td>0.872847</td>\n",
       "      <td>0.434833</td>\n",
       "      <td>0.849270</td>\n",
       "      <td>25</td>\n",
       "    </tr>\n",
       "    <tr>\n",
       "      <th>26</th>\n",
       "      <td>0.402249</td>\n",
       "      <td>0.876891</td>\n",
       "      <td>0.423153</td>\n",
       "      <td>0.851142</td>\n",
       "      <td>26</td>\n",
       "    </tr>\n",
       "    <tr>\n",
       "      <th>27</th>\n",
       "      <td>0.384163</td>\n",
       "      <td>0.886476</td>\n",
       "      <td>0.412776</td>\n",
       "      <td>0.850917</td>\n",
       "      <td>27</td>\n",
       "    </tr>\n",
       "    <tr>\n",
       "      <th>28</th>\n",
       "      <td>0.369692</td>\n",
       "      <td>0.893590</td>\n",
       "      <td>0.404774</td>\n",
       "      <td>0.851516</td>\n",
       "      <td>28</td>\n",
       "    </tr>\n",
       "    <tr>\n",
       "      <th>29</th>\n",
       "      <td>0.354686</td>\n",
       "      <td>0.901303</td>\n",
       "      <td>0.395503</td>\n",
       "      <td>0.854736</td>\n",
       "      <td>29</td>\n",
       "    </tr>\n",
       "    <tr>\n",
       "      <th>30</th>\n",
       "      <td>0.339328</td>\n",
       "      <td>0.908192</td>\n",
       "      <td>0.387811</td>\n",
       "      <td>0.855784</td>\n",
       "      <td>30</td>\n",
       "    </tr>\n",
       "    <tr>\n",
       "      <th>31</th>\n",
       "      <td>0.324661</td>\n",
       "      <td>0.913734</td>\n",
       "      <td>0.381500</td>\n",
       "      <td>0.856383</td>\n",
       "      <td>31</td>\n",
       "    </tr>\n",
       "    <tr>\n",
       "      <th>32</th>\n",
       "      <td>0.314930</td>\n",
       "      <td>0.920623</td>\n",
       "      <td>0.379830</td>\n",
       "      <td>0.855110</td>\n",
       "      <td>32</td>\n",
       "    </tr>\n",
       "    <tr>\n",
       "      <th>33</th>\n",
       "      <td>0.301897</td>\n",
       "      <td>0.925715</td>\n",
       "      <td>0.372035</td>\n",
       "      <td>0.856159</td>\n",
       "      <td>33</td>\n",
       "    </tr>\n",
       "    <tr>\n",
       "      <th>34</th>\n",
       "      <td>0.295945</td>\n",
       "      <td>0.926164</td>\n",
       "      <td>0.369503</td>\n",
       "      <td>0.856383</td>\n",
       "      <td>34</td>\n",
       "    </tr>\n",
       "    <tr>\n",
       "      <th>35</th>\n",
       "      <td>0.284624</td>\n",
       "      <td>0.931257</td>\n",
       "      <td>0.363993</td>\n",
       "      <td>0.856683</td>\n",
       "      <td>35</td>\n",
       "    </tr>\n",
       "    <tr>\n",
       "      <th>36</th>\n",
       "      <td>0.275608</td>\n",
       "      <td>0.935300</td>\n",
       "      <td>0.364390</td>\n",
       "      <td>0.856159</td>\n",
       "      <td>36</td>\n",
       "    </tr>\n",
       "    <tr>\n",
       "      <th>37</th>\n",
       "      <td>0.265136</td>\n",
       "      <td>0.940991</td>\n",
       "      <td>0.363174</td>\n",
       "      <td>0.856084</td>\n",
       "      <td>37</td>\n",
       "    </tr>\n",
       "    <tr>\n",
       "      <th>38</th>\n",
       "      <td>0.253445</td>\n",
       "      <td>0.943388</td>\n",
       "      <td>0.361412</td>\n",
       "      <td>0.855110</td>\n",
       "      <td>38</td>\n",
       "    </tr>\n",
       "    <tr>\n",
       "      <th>39</th>\n",
       "      <td>0.246298</td>\n",
       "      <td>0.949903</td>\n",
       "      <td>0.361973</td>\n",
       "      <td>0.854886</td>\n",
       "      <td>39</td>\n",
       "    </tr>\n",
       "    <tr>\n",
       "      <th>40</th>\n",
       "      <td>0.238480</td>\n",
       "      <td>0.948555</td>\n",
       "      <td>0.362789</td>\n",
       "      <td>0.854287</td>\n",
       "      <td>40</td>\n",
       "    </tr>\n",
       "    <tr>\n",
       "      <th>41</th>\n",
       "      <td>0.230360</td>\n",
       "      <td>0.953871</td>\n",
       "      <td>0.361652</td>\n",
       "      <td>0.855335</td>\n",
       "      <td>41</td>\n",
       "    </tr>\n",
       "    <tr>\n",
       "      <th>42</th>\n",
       "      <td>0.227161</td>\n",
       "      <td>0.956942</td>\n",
       "      <td>0.361750</td>\n",
       "      <td>0.854661</td>\n",
       "      <td>42</td>\n",
       "    </tr>\n",
       "    <tr>\n",
       "      <th>43</th>\n",
       "      <td>0.216652</td>\n",
       "      <td>0.958889</td>\n",
       "      <td>0.363224</td>\n",
       "      <td>0.854062</td>\n",
       "      <td>43</td>\n",
       "    </tr>\n",
       "  </tbody>\n",
       "</table>\n",
       "</div>"
      ],
      "text/plain": [
       "           loss  accuracy  val_loss  val_accuracy  Epoch\n",
       "Epoch                                                   \n",
       "1      0.695048  0.484948  0.692531      0.557319      1\n",
       "2      0.692532  0.525086  0.691729      0.563984      2\n",
       "3      0.691748  0.550022  0.691186      0.563384      3\n",
       "4      0.691300  0.556388  0.690620      0.562860      4\n",
       "5      0.690853  0.557436  0.690004      0.562711      5\n",
       "6      0.690140  0.559083  0.689369      0.562636      6\n",
       "7      0.689458  0.561779  0.688628      0.562486      7\n",
       "8      0.688906  0.565973  0.687669      0.563235      8\n",
       "9      0.687495  0.565823  0.686457      0.564433      9\n",
       "10     0.685903  0.574959  0.684457      0.570124     10\n",
       "11     0.684256  0.584993  0.681515      0.591164     11\n",
       "12     0.679983  0.608282  0.674953      0.674204     12\n",
       "13     0.671852  0.634866  0.664215      0.733059     13\n",
       "14     0.658935  0.673731  0.649444      0.753650     14\n",
       "15     0.641358  0.710648  0.630687      0.782179     15\n",
       "16     0.621615  0.740977  0.610358      0.790640     16\n",
       "17     0.599016  0.765239  0.587900      0.800000     17\n",
       "18     0.573916  0.779167  0.564689      0.807263     18\n",
       "19     0.550813  0.798787  0.542401      0.828529     19\n",
       "20     0.527128  0.820353  0.520724      0.830550     20\n",
       "21     0.504338  0.826120  0.500833      0.837439     21\n",
       "22     0.477372  0.843567  0.481456      0.839386     22\n",
       "23     0.456030  0.853527  0.464505      0.843729     23\n",
       "24     0.439095  0.863187  0.449589      0.846649     24\n",
       "25     0.416638  0.872847  0.434833      0.849270     25\n",
       "26     0.402249  0.876891  0.423153      0.851142     26\n",
       "27     0.384163  0.886476  0.412776      0.850917     27\n",
       "28     0.369692  0.893590  0.404774      0.851516     28\n",
       "29     0.354686  0.901303  0.395503      0.854736     29\n",
       "30     0.339328  0.908192  0.387811      0.855784     30\n",
       "31     0.324661  0.913734  0.381500      0.856383     31\n",
       "32     0.314930  0.920623  0.379830      0.855110     32\n",
       "33     0.301897  0.925715  0.372035      0.856159     33\n",
       "34     0.295945  0.926164  0.369503      0.856383     34\n",
       "35     0.284624  0.931257  0.363993      0.856683     35\n",
       "36     0.275608  0.935300  0.364390      0.856159     36\n",
       "37     0.265136  0.940991  0.363174      0.856084     37\n",
       "38     0.253445  0.943388  0.361412      0.855110     38\n",
       "39     0.246298  0.949903  0.361973      0.854886     39\n",
       "40     0.238480  0.948555  0.362789      0.854287     40\n",
       "41     0.230360  0.953871  0.361652      0.855335     41\n",
       "42     0.227161  0.956942  0.361750      0.854661     42\n",
       "43     0.216652  0.958889  0.363224      0.854062     43"
      ]
     },
     "execution_count": 128,
     "metadata": {},
     "output_type": "execute_result"
    }
   ],
   "source": [
    "df_m=pd.DataFrame(model.history.history)\n",
    "df_m['Epoch']=range(1,n_epochs_best+1)\n",
    "df_m.index=df_m['Epoch']\n",
    "df_m\n"
   ]
  },
  {
   "cell_type": "code",
   "execution_count": 129,
   "metadata": {},
   "outputs": [
    {
     "name": "stdout",
     "output_type": "stream",
     "text": [
      "209/209 [==============================] - 0s 2ms/step - loss: 0.3632 - accuracy: 0.8541\n",
      "Test accuracy: 0.8540621399879456\n"
     ]
    }
   ],
   "source": [
    "score = model.evaluate(testing_padded, y_test, batch_size=64, verbose=1)\n",
    "print('Test accuracy:', score[1])\n"
   ]
  },
  {
   "cell_type": "code",
   "execution_count": 130,
   "metadata": {},
   "outputs": [
    {
     "data": {
      "image/png": "[encoded data removed]",
      "text/plain": [
       "<Figure size 432x288 with 1 Axes>"
      ]
     },
     "metadata": {},
     "output_type": "display_data"
    }
   ],
   "source": [
    "plt.plot(df_m['loss'])\n",
    "plt.plot(df_m['val_loss'])\n",
    "plt.title('model loss')\n",
    "plt.ylabel('loss')\n",
    "plt.xlabel('epoch')\n",
    "plt.legend(['train_loss', 'val_loss'])\n",
    "plt.show()\n",
    "\n"
   ]
  },
  {
   "cell_type": "code",
   "execution_count": 131,
   "metadata": {},
   "outputs": [
    {
     "data": {
      "image/png": "[encoded data removed]",
      "text/plain": [
       "<Figure size 432x288 with 1 Axes>"
      ]
     },
     "metadata": {},
     "output_type": "display_data"
    }
   ],
   "source": [
    "plt.plot(df_m['accuracy'])\n",
    "plt.plot(df_m['val_accuracy'])\n",
    "plt.title('model accuracy')\n",
    "plt.ylabel('accuracy')\n",
    "plt.xlabel('epoch')\n",
    "plt.legend(['train_acc', 'val_acc'])\n",
    "plt.show()"
   ]
  },
  {
   "cell_type": "code",
   "execution_count": 132,
   "metadata": {},
   "outputs": [
    {
     "data": {
      "image/png": "[encoded data removed]",
      "text/plain": [
       "<Figure size 648x648 with 2 Axes>"
      ]
     },
     "metadata": {},
     "output_type": "display_data"
    },
    {
     "name": "stdout",
     "output_type": "stream",
     "text": [
      "Accuracy, Precision and Recall scores for LinearSVC\n",
      "\n",
      "accuracy\tprecision\trecall\n",
      "0.836078\t0.814941\t0.813559\n",
      "\n"
     ]
    },
    {
     "data": {
      "image/png": "[encoded data removed]",
      "text/plain": [
       "<Figure size 432x288 with 1 Axes>"
      ]
     },
     "metadata": {},
     "output_type": "display_data"
    }
   ],
   "source": [
    "#LinearSVC\n",
    "confusion_matrix(lsvc_cm,lsvc_score,'lsvc')\n",
    "average_precision_lsvc = average_precision_score(labels_test, lsvc.decision_function(features_test))\n",
    "disp1 = plot_precision_recall_curve(lsvc, features_test, labels_test)\n",
    "\n",
    "disp1.ax_.set_title('2-class Precision-Recall curve for LSVC: '\n",
    "                   'AP={0:0.2f}'.format(average_precision_lsvc))\n",
    "\n",
    "lsvc_accuracy, lsvc_precision, lsvc_recall = accuracy_score(labels_test, lsvc_predictions), precision_score(labels_test, lsvc_predictions), recall_score(labels_test, lsvc_predictions)\n",
    "print(\"Accuracy, Precision and Recall scores for LinearSVC\\n\")\n",
    "print('accuracy', 'precision', 'recall', sep='\\t')\n",
    "print('{:.6f}\\t{:.6f}\\t{:.6f}\\n'.format(lsvc_accuracy, lsvc_precision, lsvc_recall))"
   ]
  },
  {
   "cell_type": "code",
   "execution_count": 133,
   "metadata": {},
   "outputs": [
    {
     "data": {
      "image/png": "[encoded data removed]",
      "text/plain": [
       "<Figure size 648x648 with 2 Axes>"
      ]
     },
     "metadata": {},
     "output_type": "display_data"
    },
    {
     "name": "stdout",
     "output_type": "stream",
     "text": [
      "Accuracy, Precision and Recall scores for Gaussian Naive Bayes\n",
      "\n",
      "accuracy\tprecision\trecall\n",
      "0.733533\t0.655585\t0.835593\n",
      "\n"
     ]
    }
   ],
   "source": [
    "#Gaussuan Naive Bayes\n",
    "confusion_matrix(gnb_cm,gnb_score,'gnb')\n",
    "gnb_accuracy, gnb_precision, gnb_recall = accuracy_score(labels_test, gnb_predictions), precision_score(labels_test, gnb_predictions), recall_score(labels_test, gnb_predictions)\n",
    "print(\"Accuracy, Precision and Recall scores for Gaussian Naive Bayes\\n\")\n",
    "print('accuracy', 'precision', 'recall', sep='\\t')\n",
    "print('{:.6f}\\t{:.6f}\\t{:.6f}\\n'.format(gnb_accuracy, gnb_precision, gnb_recall))"
   ]
  },
  {
   "cell_type": "code",
   "execution_count": 134,
   "metadata": {},
   "outputs": [
    {
     "data": {
      "image/png": "[encoded data removed]",
      "text/plain": [
       "<Figure size 648x648 with 2 Axes>"
      ]
     },
     "metadata": {},
     "output_type": "display_data"
    },
    {
     "name": "stdout",
     "output_type": "stream",
     "text": [
      "Accuracy, Precision and Recall scores for LinearSVC\n",
      "\n",
      "accuracy\tprecision\trecall\n",
      "0.830838\t0.817073\t0.794915\n",
      "\n"
     ]
    },
    {
     "data": {
      "image/png": "[encoded data removed]",
      "text/plain": [
       "<Figure size 432x288 with 1 Axes>"
      ]
     },
     "metadata": {},
     "output_type": "display_data"
    }
   ],
   "source": [
    "#Logistic Regression\n",
    "confusion_matrix(lr_cm,lr_score,'lr')\n",
    "average_precision_lr = average_precision_score(labels_test, lr.decision_function(features_test))\n",
    "disp = plot_precision_recall_curve(lr, features_test, labels_test)\n",
    "disp.ax_.set_title('2-class Precision-Recall curve for LR: '\n",
    "                   'AP={0:0.2f}'.format(average_precision_lr))\n",
    "lr_accuracy, lr_precision, lr_recall = accuracy_score(labels_test, lr_predictions), precision_score(labels_test, lr_predictions), recall_score(labels_test, lr_predictions)\n",
    "print(\"Accuracy, Precision and Recall scores for LinearSVC\\n\")\n",
    "print('accuracy', 'precision', 'recall', sep='\\t')\n",
    "print('{:.6f}\\t{:.6f}\\t{:.6f}\\n'.format(lr_accuracy, lr_precision, lr_recall))"
   ]
  },
  {
   "cell_type": "code",
   "execution_count": 135,
   "metadata": {},
   "outputs": [
    {
     "data": {
      "image/png": "[encoded data removed]",
      "text/plain": [
       "<Figure size 648x648 with 2 Axes>"
      ]
     },
     "metadata": {},
     "output_type": "display_data"
    },
    {
     "name": "stdout",
     "output_type": "stream",
     "text": [
      "Accuracy, Precision and Recall scores for Random Forest Classifier\n",
      "\n",
      "accuracy\tprecision\trecall\n",
      "0.789671\t0.774423\t0.738983\n",
      "\n"
     ]
    }
   ],
   "source": [
    "#Random Forest Classifier\n",
    "confusion_matrix(rfc_cm,rfc_score,'rfc')\n",
    "rfc_accuracy, rfc_precision, rfc_recall = accuracy_score(labels_test, rfc_predictions), precision_score(labels_test, rfc_predictions), recall_score(labels_test, rfc_predictions)\n",
    "\n",
    "\n",
    "print(\"Accuracy, Precision and Recall scores for Random Forest Classifier\\n\")\n",
    "print('accuracy', 'precision', 'recall', sep='\\t')\n",
    "print('{:.6f}\\t{:.6f}\\t{:.6f}\\n'.format(rfc_accuracy, rfc_precision, rfc_recall))"
   ]
  },
  {
   "cell_type": "code",
   "execution_count": 136,
   "metadata": {},
   "outputs": [],
   "source": [
    "l = [['GNB',gnb_accuracy*100],['LSVC',lsvc_accuracy*100],['LR',lr_accuracy*100],['RFC',rfc_accuracy*100],['Neural Net',score[1]*100]]\n",
    "\n",
    "result = pd.DataFrame(l,columns=['model','accuracy'])"
   ]
  }
 ],
 "metadata": {
  "kernelspec": {
   "display_name": "Python 3",
   "language": "python",
   "name": "python3"
  },
  "language_info": {
   "codemirror_mode": {
    "name": "ipython",
    "version": 3
   },
   "file_extension": ".py",
   "mimetype": "text/x-python",
   "name": "python",
   "nbconvert_exporter": "python",
   "pygments_lexer": "ipython3",
   "version": "3.8.3"
  }
 },
 "nbformat": 4,
 "nbformat_minor": 4
}
